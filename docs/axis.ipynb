{
 "cells": [
  {
   "cell_type": "markdown",
   "metadata": {},
   "source": [
    "# X and Y axis settings\n",
    "\n"
   ]
  },
  {
   "cell_type": "raw",
   "metadata": {
    "raw_mimetype": "text/restructuredtext"
   },
   "source": [
    "This section documents features used for modifying *x* and *y* axis settings, including axis scales, tick locations, and tick label formatting. It also documents a handy \"dual axes\" feature."
   ]
  },
  {
   "cell_type": "markdown",
   "metadata": {},
   "source": [
    "## Axis tick locations"
   ]
  },
  {
   "cell_type": "raw",
   "metadata": {
    "raw_mimetype": "text/restructuredtext"
   },
   "source": [
    "\"Axis locators\" are used to automatically select sensible tick locations based on the axis data limits. In ProPlot, you can change the axis locator using the `~proplot.axes.Axes.format` keyword arguments `xlocator`, `ylocator`, `xminorlocator`, and `yminorlocator` (or their aliases, `xticks`, `yticks`, `xminorticks`, and `yminorticks`). This is powered by the `~proplot.axistools.Locator` constructor function.\n",
    "\n",
    "These keyword arguments can be used to apply built-in matplotlib `~matplotlib.ticker.Locator`\\ s by their \"registered\" names (e.g. ``xlocator='log'``), to draw ticks every ``N`` data values with `~matplotlib.ticker.MultipleLocator` (e.g. ``xlocator=2``), or to tick the specific locations in a list using `~matplotlib.ticker.FixedLocator` (just like `~matplotlib.axes.Axes.set_xticks` and `~matplotlib.axes.Axes.set_yticks`). See `~proplot.axes.XYAxes.format` and `~proplot.axistools.Locator` for details.\n",
    "\n",
    "To generate lists of tick locations, we recommend using ProPlot's `~proplot.utils.arange` function -- it’s basically an *endpoint-inclusive* version of `numpy.arange`, which is usually what you'll want in this context."
   ]
  },
  {
   "cell_type": "code",
   "execution_count": null,
   "metadata": {},
   "outputs": [],
   "source": [
    "import proplot as plot\n",
    "import numpy as np\n",
    "state = np.random.RandomState(51423)\n",
    "plot.rc.facecolor = plot.shade('powder blue', 1.15)\n",
    "plot.rc.update(\n",
    "    linewidth=1,\n",
    "    small=10, large=12,\n",
    "    color='dark blue', suptitlecolor='dark blue',\n",
    "    titleloc='upper center', titlecolor='dark blue', titleborder=False,\n",
    ")\n",
    "f, axs = plot.subplots(nrows=5, axwidth=5, aspect=(8, 1), share=0)\n",
    "axs.format(suptitle='Tick locators demo')\n",
    "\n",
    "# Manual locations\n",
    "axs[0].format(\n",
    "    xlim=(0, 200), xminorlocator=10, xlocator=30,\n",
    "    title='MultipleLocator'\n",
    ")\n",
    "axs[1].format(\n",
    "    xlim=(0, 10), xminorlocator=0.1,\n",
    "    xlocator=[0, 0.3, 0.8, 1.6, 4.4, 8, 8.8, 10],\n",
    "    title='FixedLocator',\n",
    ")\n",
    "\n",
    "# Approx number of ticks you want, but not exact locations\n",
    "axs[3].format(\n",
    "    xlim=(1, 10), xlocator=('maxn', 20),\n",
    "    title='MaxNLocator',\n",
    ")\n",
    "\n",
    "# Log minor locator, automatically applied for log scale plots\n",
    "axs[2].format(\n",
    "    xlim=(1, 100), xlocator='log', xminorlocator='logminor',\n",
    "    title='LogLocator',\n",
    ")\n",
    "\n",
    "# Index locator, only draws ticks where data is plotted\n",
    "axs[4].plot(np.arange(10) - 5, state.rand(10), alpha=0)\n",
    "axs[4].format(\n",
    "    xlim=(0, 6), ylim=(0, 1), xlocator='index',\n",
    "    xformatter=[r'$\\alpha$', r'$\\beta$', r'$\\gamma$', r'$\\delta$', r'$\\epsilon$'],\n",
    "    title='IndexLocator',\n",
    ")\n",
    "plot.rc.reset()"
   ]
  },
  {
   "cell_type": "markdown",
   "metadata": {},
   "source": [
    "## Axis tick labels"
   ]
  },
  {
   "cell_type": "raw",
   "metadata": {
    "raw_mimetype": "text/restructuredtext"
   },
   "source": [
    "\"Axis formatters\" are used to convert floating point numbers to nicely-formatted tick labels. In ProPlot, you can change the axis formatter using the `~proplot.axes.Axes.format` keyword arguments `xformatter` and `yformatter`  (or their aliases, `xticklabels` and `yticklabels`). This is powered by the `~proplot.axistools.Formatter` constructor function.\n",
    "\n",
    "These keyword arguments can be used to apply built-in matplotlib `~matplotlib.ticker.Formatter`\\ s by their \"registered\" names (e.g. ``xformatter='log'``), to apply new \"preset\" axis formatters (e.g. ``xformatter='deglat'`` to label ticks as the geographic latitude or ``xformatter='pi'`` to label ticks as fractions of :math:`\\pi`), to apply a ``%``-style format directive with `~matplotlib.ticker.FormatStrFormatter` (e.g. ``xformatter='%.0f'``), or to apply custom tick labels with `~matplotlib.ticker.FixedFormatter` (just like `~matplotlib.axes.Axes.set_xticklabels` and `~matplotlib.axes.Axes.set_yticklabels`). See `~proplot.axes.XYAxes.format` and `~proplot.axistools.Formatter` for details."
   ]
  },
  {
   "cell_type": "raw",
   "metadata": {
    "raw_mimetype": "text/restructuredtext"
   },
   "source": [
    "ProPlot also changes the default axis formatter to `~proplot.axistools.AutoFormatter`. This class trims trailing zeros by default, can be used to *omit tick labels* outside of some data range, and can add arbitrary prefixes and suffixes to each label. See  `~proplot.axistools.AutoFormatter` for details."
   ]
  },
  {
   "cell_type": "code",
   "execution_count": null,
   "metadata": {},
   "outputs": [],
   "source": [
    "import proplot as plot\n",
    "import numpy as np\n",
    "plot.rc.update(\n",
    "    linewidth=1.2, small=10, large=12, facecolor='gray8', figurefacecolor='gray8',\n",
    "    suptitlecolor='w', gridcolor='w', color='w',\n",
    "    titleloc='upper center', titlecolor='w', titleborder=False,\n",
    ")\n",
    "f, axs = plot.subplots(nrows=6, axwidth=5, aspect=(8, 1), share=0)\n",
    "\n",
    "# Fraction formatters\n",
    "axs[0].format(\n",
    "    xlim=(0, 3*np.pi), xlocator=plot.arange(0, 4, 0.25) * np.pi,\n",
    "    xformatter='pi', title='FracFormatter',\n",
    ")\n",
    "axs[1].format(\n",
    "    xlim=(0, 2*np.e), xlocator=plot.arange(0, 2, 0.5) * np.e,\n",
    "    xticklabels='e', title='FracFormatter',\n",
    ")\n",
    "\n",
    "# Geographic formatter\n",
    "axs[2].format(\n",
    "    xlim=(-90, 90), xlocator=plot.arange(-90, 90, 30),\n",
    "    xformatter='deglat', title='Geographic preset'\n",
    ")\n",
    "\n",
    "# User input labels\n",
    "axs[3].format(\n",
    "    xlim=(-1.01, 1), xlocator=0.5,\n",
    "    xticklabels=['a', 'b', 'c', 'd', 'e'], title='FixedFormatter',\n",
    ")\n",
    "\n",
    "# Custom style labels\n",
    "axs[4].format(\n",
    "    xlim=(0, 0.001), xlocator=0.0001,\n",
    "    xformatter='%.E', title='FormatStrFormatter',\n",
    ")\n",
    "axs[5].format(\n",
    "    xlim=(0, 100), xtickminor=False, xlocator=20,\n",
    "    xformatter='{x:.1f}', title='StrMethodFormatter',\n",
    ")\n",
    "axs.format(ylocator='null', suptitle='Tick formatters demo')\n",
    "plot.rc.reset()"
   ]
  },
  {
   "cell_type": "code",
   "execution_count": null,
   "metadata": {},
   "outputs": [],
   "source": [
    "import proplot as plot\n",
    "plot.rc.linewidth = 2\n",
    "plot.rc.small = plot.rc.large = 11\n",
    "locator = [0, 0.25, 0.5, 0.75, 1]\n",
    "f, axs = plot.subplots([[1, 1, 2, 2], [0, 3, 3, 0]], axwidth=1.5, share=0)\n",
    "\n",
    "# Formatter comparison\n",
    "axs[0].format(\n",
    "    xformatter='scalar', yformatter='scalar', title='Matplotlib formatter'\n",
    ")\n",
    "axs[1].format(yticklabelloc='both', title='ProPlot formatter')\n",
    "axs[:2].format(xlocator=locator, ylocator=locator)\n",
    "\n",
    "# Limiting the formatter tick range\n",
    "axs[2].format(\n",
    "    title='Omitting tick labels', ticklen=5, xlim=(0, 5), ylim=(0, 5),\n",
    "    xtickrange=(0, 2), ytickrange=(0, 2), xlocator=1, ylocator=1\n",
    ")\n",
    "axs.format(\n",
    "    ytickloc='both', yticklabelloc='both',\n",
    "    titlepad='0.5em', suptitle='Default formatters demo'\n",
    ")\n",
    "plot.rc.reset()"
   ]
  },
  {
   "cell_type": "markdown",
   "metadata": {},
   "source": [
    "## Datetime axes"
   ]
  },
  {
   "cell_type": "raw",
   "metadata": {
    "raw_mimetype": "text/restructuredtext"
   },
   "source": [
    "ProPlot can also be used to customize the tick locations and tick label format of \"datetime\" axes. To draw ticks on some particular time unit, just use a unit string (e.g. ``xlocator='month'``). To draw ticks every ``N`` time units, just use a (unit, N) tuple (e.g. ``xlocator=('day', 5)``). For `% style formatting <https://docs.python.org/3/library/datetime.html#strftime-strptime-behavior>`__ of datetime tick labels, just use a string containing ``'%'`` (e.g. ``xformatter='%Y-%m-%d'``). See `~proplot.axes.XYAxes.format`, `~proplot.axistools.Locator`, and `~proplot.axistools.Formatter` for details."
   ]
  },
  {
   "cell_type": "code",
   "execution_count": null,
   "metadata": {},
   "outputs": [],
   "source": [
    "import proplot as plot\n",
    "import numpy as np\n",
    "plot.rc.update(\n",
    "    linewidth=1.2, small=10, large=12, ticklenratio=0.7,\n",
    "    figurefacecolor='w', facecolor=plot.shade('C0', 2.7),\n",
    "    titleloc='upper center', titleborder=False,\n",
    ")\n",
    "f, axs = plot.subplots(nrows=5, axwidth=6, aspect=(8, 1), share=0)\n",
    "axs[:4].format(xrotation=0)  # no rotation for these examples\n",
    "\n",
    "# Default date locator\n",
    "# This is enabled if you plot datetime data or set datetime limits\n",
    "axs[0].format(\n",
    "    xlim=(np.datetime64('2000-01-01'), np.datetime64('2001-01-02')),\n",
    "    title='Auto date locator and formatter'\n",
    ")\n",
    "\n",
    "# Concise date formatter introduced in matplotlib 3.1\n",
    "axs[1].format(\n",
    "    xlim=(np.datetime64('2000-01-01'), np.datetime64('2001-01-01')),\n",
    "    xformatter='concise', title='Concise date formatter',\n",
    ")\n",
    "\n",
    "# Minor ticks every year, major every 10 years\n",
    "axs[2].format(\n",
    "    xlim=(np.datetime64('2000-01-01'), np.datetime64('2050-01-01')),\n",
    "    xlocator=('year', 10), xformatter='\\'%y', title='Ticks every N units',\n",
    ")\n",
    "\n",
    "# Minor ticks every 10 minutes, major every 2 minutes\n",
    "axs[3].format(\n",
    "    xlim=(np.datetime64('2000-01-01T00:00:00'), np.datetime64('2000-01-01T12:00:00')),\n",
    "    xlocator=('hour', range(0, 24, 2)), xminorlocator=('minute', range(0, 60, 10)),\n",
    "    xformatter='T%H:%M:%S', title='Ticks at specific intervals',\n",
    ")\n",
    "\n",
    "# Month and year labels, with default tick label rotation\n",
    "axs[4].format(\n",
    "    xlim=(np.datetime64('2000-01-01'), np.datetime64('2008-01-01')),\n",
    "    xlocator='year', xminorlocator='month',  # minor ticks every month\n",
    "    xformatter='%b %Y', title='Ticks with default rotation',\n",
    ")\n",
    "axs.format(\n",
    "    ylocator='null', suptitle='Datetime locators and formatters demo'\n",
    ")\n",
    "plot.rc.reset()"
   ]
  },
  {
   "cell_type": "markdown",
   "metadata": {},
   "source": [
    "## Axis scales"
   ]
  },
  {
   "cell_type": "raw",
   "metadata": {
    "raw_mimetype": "text/restructuredtext"
   },
   "source": [
    "\"Axis scales\" like ``'linear'`` and ``'log'`` control the *x* and *y* axis coordinate system. To change the axis scale, simply pass e.g. ``xscale='log'`` or ``yscale='log'`` to `~proplot.axes.Axes.format`. This is powered by the `~proplot.axistools.Scale` constructor function.\n",
    "\n",
    "ProPlot also makes several changes to the axis scale API:\n",
    "\n",
    "* By default, the `~proplot.axistools.AutoFormatter` formatter is used for all axis scales instead of e.g. `~matplotlib.ticker.LogFormatter` for `~matplotlib.scale.LogScale` scales. This can be changed e.g. by passing ``xformatter='log'`` or ``yformatter='log'`` to `~proplot.axes.XYAxes.format`.\n",
    "* To make its behavior consistent with `~proplot.axistools.Locator` and `~proplot.axistools.Formatter`, the `~proplot.axistools.Scale` constructor function returns instances of `~matplotlib.scale.ScaleBase`, and `~matplotlib.axes.Axes.set_xscale` and `~matplotlib.axes.Axes.set_yscale` now accept these class instances in addition to string names like ``'log'``.\n",
    "* While matplotlib axis scales must be instantiated with an `~matplotlib.axis.Axis` instance (for backward compatibility reasons), ProPlot axis scales can be instantiated without the axis instance (e.g. ``plot.LogScale()`` instead of ``plot.LogScale(ax.xaxis)``). \n",
    "* The ``'log'`` and ``'symlog'`` axis scales now accept the more sensible `base`, `linthresh`, `linscale`, and `subs` keyword arguments, rather than `basex`, `basey`, `linthreshx`, `linthreshy`, `linscalex`, `linscaley`, `subsx`, and `subsy`. Also, the default `subs` for the ``'symlog'`` axis scale is now ``np.arange(1, 10)``, and the default `linthresh` is now ``1``."
   ]
  },
  {
   "cell_type": "code",
   "execution_count": null,
   "metadata": {},
   "outputs": [],
   "source": [
    "import proplot as plot\n",
    "import numpy as np\n",
    "N = 200\n",
    "lw = 3\n",
    "plot.rc.update({\n",
    "    'linewidth': 1, 'ticklabelweight': 'bold', 'axeslabelweight': 'bold'\n",
    "})\n",
    "f, axs = plot.subplots(ncols=2, nrows=2, axwidth=1.8, share=0)\n",
    "axs.format(suptitle='Axis scales demo', ytickminor=True)\n",
    "\n",
    "# Linear and log scales\n",
    "axs[0].format(yscale='linear', ylabel='linear scale')\n",
    "axs[1].format(ylim=(1e-3, 1e3), yscale='log', ylabel='log scale')\n",
    "axs[:2].plot(np.linspace(0, 1, N), np.linspace(0, 1000, N), lw=lw)\n",
    "\n",
    "# Symlog scale\n",
    "ax = axs[2]\n",
    "ax.format(yscale='symlog', ylabel='symlog scale')\n",
    "ax.plot(np.linspace(0, 1, N), np.linspace(-1000, 1000, N), lw=lw)\n",
    "\n",
    "# Logit scale\n",
    "ax = axs[3]\n",
    "ax.format(yscale='logit', ylabel='logit scale')\n",
    "ax.plot(np.linspace(0, 1, N), np.linspace(0.01, 0.99, N), lw=lw)\n",
    "plot.rc.reset()"
   ]
  },
  {
   "cell_type": "markdown",
   "metadata": {},
   "source": [
    "## New axis scales"
   ]
  },
  {
   "cell_type": "raw",
   "metadata": {
    "raw_mimetype": "text/restructuredtext"
   },
   "source": [
    "ProPlot introduces several new axis scales. The ``'cutoff'`` scale (see `~proplot.axistools.CutoffScale`) is useful when the statistical distribution of your data is very unusual. The ``'sine'`` scale (see `~proplot.axistools.SineLatitudeScale`) scales the axis with a sine function, resulting in an *area weighted* spherical latitude coordinate, and the ``'mercator'`` scale (see `~proplot.axistools.MercatorLatitudeScale`) scales the axis with the Mercator projection latitude coordinate. The ``'inverse'`` scale (see `~proplot.axistools.InverseScale`) can be useful when working with spectral data, especially with :ref:`\"dual\" unit axes <Dual unit axes>`."
   ]
  },
  {
   "cell_type": "code",
   "execution_count": null,
   "metadata": {},
   "outputs": [],
   "source": [
    "import proplot as plot\n",
    "import numpy as np\n",
    "f, axs = plot.subplots(width=6, nrows=4, aspect=(5, 1), sharex=False)\n",
    "ax = axs[0]\n",
    "\n",
    "# Sample data\n",
    "x = np.linspace(0, 4*np.pi, 100)\n",
    "dy = np.linspace(-1, 1, 5)\n",
    "y1 = np.sin(x)\n",
    "y2 = np.cos(x)\n",
    "state = np.random.RandomState(51423)\n",
    "data = state.rand(len(dy)-1, len(x)-1)\n",
    "\n",
    "# Loop through various cutoff scale options\n",
    "titles = ('Zoom out of left', 'Zoom into left', 'Discrete jump', 'Fast jump')\n",
    "args = [\n",
    "    (np.pi, 3),  # speed up\n",
    "    (3*np.pi, 1/3),  # slow down\n",
    "    (np.pi, np.inf, 3*np.pi),  # discrete jump\n",
    "    (np.pi, 5, 3*np.pi)  # fast jump\n",
    "]\n",
    "locators = (\n",
    "    2*[np.pi/3]\n",
    "    + 2*[[*np.linspace(0, 1, 4) * np.pi, *(np.linspace(0, 1, 4) * np.pi + 3*np.pi)]]\n",
    ")\n",
    "for ax, iargs, title, locator in zip(axs, args, titles, locators):\n",
    "    ax.pcolormesh(x, dy, data, cmap='grays', cmap_kw={'right': 0.8})\n",
    "    for y, color in zip((y1, y2), ('coral', 'sky blue')):\n",
    "        ax.plot(x, y, lw=4, color=color)\n",
    "    ax.format(\n",
    "        xscale=('cutoff', *iargs), title=title,\n",
    "        xlim=(0, 4*np.pi), ylabel='wave amplitude',\n",
    "        xformatter='pi', xlocator=locator,\n",
    "        xtickminor=False, xgrid=True, ygrid=False, suptitle='Cutoff axis scales demo'\n",
    "    )"
   ]
  },
  {
   "cell_type": "code",
   "execution_count": null,
   "metadata": {},
   "outputs": [],
   "source": [
    "import proplot as plot\n",
    "import numpy as np\n",
    "plot.rc.reset()\n",
    "f, axs = plot.subplots(nrows=2, ncols=3, axwidth=1.7, share=0, order='F')\n",
    "axs.format(\n",
    "    collabels=['Power scales', 'Exponential scales',  'Cartographic scales'],\n",
    "    suptitle='Additional axis scales demo'\n",
    ")\n",
    "x = np.linspace(0, 1, 50)\n",
    "y = 10*x\n",
    "state = np.random.RandomState(51423)\n",
    "data = state.rand(len(y) - 1, len(x) - 1)\n",
    "\n",
    "# Power scales\n",
    "colors = ('coral', 'sky blue')\n",
    "for ax, power, color in zip(axs[:2], (2, 1/4), colors):\n",
    "    ax.pcolormesh(x, y, data, cmap='grays', cmap_kw={'right': 0.8})\n",
    "    ax.plot(x, y, lw=4, color=color)\n",
    "    ax.format(\n",
    "        ylim=(0.1, 10), yscale=('power', power),\n",
    "        title=f'$x^{{{power}}}$'\n",
    "    )\n",
    "    \n",
    "# Exp scales\n",
    "for ax, a, c, color in zip(axs[2:4], (np.e, 2), (0.5, -1), colors):\n",
    "    ax.pcolormesh(x, y, data, cmap='grays', cmap_kw={'right': 0.8})\n",
    "    ax.plot(x, y, lw=4, color=color)\n",
    "    ax.format(\n",
    "        ylim=(0.1, 10), yscale=('exp', a, c),\n",
    "        title=f'${(a,\"e\")[a==np.e]}^{{{(c,\"-\")[c==-1]}x}}$'\n",
    "    )\n",
    "    \n",
    "# Geographic scales\n",
    "n = 20\n",
    "x = np.linspace(-180, 180, n)\n",
    "y = np.linspace(-85, 85, n)\n",
    "y2 = np.linspace(-85, 85, n)\n",
    "data = state.rand(len(x), len(y2))\n",
    "for ax, scale, color in zip(axs[4:], ('sine', 'mercator'), ('coral', 'sky blue')):\n",
    "    ax.plot(x, y, '-', color=color, lw=4)\n",
    "    ax.pcolormesh(x, y2, data, cmap='grays', cmap_kw={'right': 0.8})\n",
    "    ax.format(\n",
    "        title=scale.title() + ' y-axis', yscale=scale, ytickloc='left',\n",
    "        yformatter='deg', grid=False, ylocator=20,\n",
    "        xscale='linear', xlim=None, ylim=(-85, 85)\n",
    "    )"
   ]
  },
  {
   "cell_type": "markdown",
   "metadata": {},
   "source": [
    "## Dual unit axes"
   ]
  },
  {
   "cell_type": "raw",
   "metadata": {
    "raw_mimetype": "text/restructuredtext"
   },
   "source": [
    "The `~proplot.axes.XYAxes.dualx` and `~proplot.axes.XYAxes.dualy` methods can be used to draw duplicate *x* and *y* axes meant to represent *alternate units* in the same coordinate range as the \"parent\" axis. This is powered by the `~proplot.axistools.FuncScale` class\n",
    "\n",
    "`~proplot.axes.XYAxes.dualx` and `~proplot.axes.XYAxes.dualy` accept either a single linear *forward function*, a pair of arbitrary *forward and inverse functions*, or a *scale name or scale class instance*. In the latter case, the scale's transforms are used for the forward and inverse functions, and its default locators and formatters are used for the default `~proplot.axistools.FuncScale` locators and formatters. Notably, the \"parent\" axis scale is now *arbitrary* -- in the first example below, we add a `~proplot.axes.XYAxes.dualx` axis to an axis scaled by the ``'symlog'`` scale."
   ]
  },
  {
   "cell_type": "code",
   "execution_count": null,
   "metadata": {},
   "outputs": [],
   "source": [
    "import proplot as plot\n",
    "plot.rc.update({'grid.alpha': 0.4, 'linewidth': 1, 'grid.linewidth': 1})\n",
    "c1 = plot.shade('cerulean', 0.5)\n",
    "c2 = plot.shade('red', 0.5)\n",
    "f, axs = plot.subplots(\n",
    "    [[1, 1, 2, 2], [0, 3, 3, 0]],\n",
    "    share=0, aspect=2.2, axwidth=3\n",
    ")\n",
    "axs.format(\n",
    "    suptitle='Duplicate axes with custom transformations',\n",
    "    xcolor=c1, gridcolor=c1,\n",
    "    ylocator=[], yformatter=[]\n",
    ")\n",
    "\n",
    "# Meters and kilometers\n",
    "ax = axs[0]\n",
    "ax.format(xlim=(0, 5000), xlabel='meters')\n",
    "ax.dualx(\n",
    "    lambda x: x*1e-3,\n",
    "    label='kilometers', grid=True, color=c2, gridcolor=c2\n",
    ")\n",
    "\n",
    "# Kelvin and Celsius\n",
    "ax = axs[1]\n",
    "ax.format(xlim=(200, 300), xlabel='temperature (K)')\n",
    "ax.dualx(\n",
    "    lambda x: x - 273.15,\n",
    "    label='temperature (\\N{DEGREE SIGN}C)', grid=True, color=c2, gridcolor=c2\n",
    ")\n",
    "\n",
    "# With symlog parent\n",
    "ax = axs[2]\n",
    "ax.format(xlim=(-100, 100), xscale='symlog', xlabel='MegaJoules')\n",
    "ax.dualx(\n",
    "    lambda x: x*1e6,\n",
    "    label='Joules', formatter='log',  grid=True, color=c2, gridcolor=c2\n",
    ")\n",
    "plot.rc.reset()"
   ]
  },
  {
   "cell_type": "code",
   "execution_count": null,
   "metadata": {},
   "outputs": [],
   "source": [
    "import proplot as plot\n",
    "plot.rc.update({'grid.alpha': 0.4, 'linewidth': 1, 'grid.linewidth': 1})\n",
    "f, axs = plot.subplots(ncols=2, share=0, aspect=0.4, axwidth=1.8)\n",
    "axs.format(suptitle='Duplicate axes with special transformations')\n",
    "c1, c2 = plot.shade('cerulean', 0.5), plot.shade('red', 0.5)\n",
    "\n",
    "# Pressure as the linear scale, height on opposite axis (scale height 7km)\n",
    "ax = axs[0]\n",
    "ax.format(\n",
    "    xformatter='null', ylabel='pressure (hPa)',\n",
    "    ylim=(1000, 10), xlocator=[], ycolor=c1, gridcolor=c1\n",
    ")\n",
    "scale = plot.Scale('height')\n",
    "ax.dualy(\n",
    "    scale, label='height (km)', ticks=2.5, color=c2, gridcolor=c2, grid=True\n",
    ")\n",
    "\n",
    "# Height as the linear scale, pressure on opposite axis (scale height 7km)\n",
    "ax = axs[1]  # span\n",
    "ax.format(\n",
    "    xformatter='null', ylabel='height (km)', ylim=(0, 20), xlocator='null',\n",
    "    grid=True, gridcolor=c2, ycolor=c2\n",
    ")\n",
    "scale = plot.Scale('pressure')\n",
    "ax.dualy(\n",
    "    scale, label='pressure (hPa)', locator=100,\n",
    "    color=c1, gridcolor=c1, grid=True\n",
    ")\n",
    "plot.rc.reset()"
   ]
  },
  {
   "cell_type": "code",
   "execution_count": null,
   "metadata": {},
   "outputs": [],
   "source": [
    "import proplot as plot\n",
    "import numpy as np\n",
    "plot.rc['axes.ymargin'] = 0\n",
    "f, ax = plot.subplots(aspect=(3, 1), width=6)\n",
    "\n",
    "# Sample data\n",
    "cutoff = 1/5\n",
    "c1, c2 = plot.shade('cerulean', 0.5), plot.shade('red', 0.5)\n",
    "x = np.linspace(0.01, 0.5, 1000)  # in wavenumber days\n",
    "response = (np.tanh(-((x - cutoff)/0.03)) + 1) / 2  # response func\n",
    "ax.axvline(cutoff, lw=2, ls='-', color=c2)\n",
    "ax.fill_between([cutoff - 0.03, cutoff + 0.03], 0, 1, color=c2, alpha=0.3)\n",
    "ax.plot(x, response, color=c1, lw=2)\n",
    "\n",
    "# Add inverse scale to top\n",
    "scale = plot.Scale('inverse')\n",
    "ax.format(xlabel='wavenumber (days$^{-1}$)', ylabel='response', grid=False)\n",
    "ax = ax.dualx(scale, locator='log', locator_kw={'subs': (1, 2, 5)}, label='period (days)')\n",
    "ax.format(\n",
    "    title='Imaginary response function',\n",
    "    suptitle='Duplicate axes with wavenumber and period'\n",
    ")\n",
    "plot.rc.reset()"
   ]
  }
 ],
 "metadata": {
  "celltoolbar": "Raw Cell Format",
  "kernelspec": {
   "display_name": "Python 3",
   "language": "python",
   "name": "python3"
  },
  "language_info": {
   "codemirror_mode": {
    "name": "ipython",
    "version": 3
   },
   "file_extension": ".py",
   "mimetype": "text/x-python",
   "name": "python",
   "nbconvert_exporter": "python",
   "pygments_lexer": "ipython3",
   "version": "3.7.3"
  },
  "toc": {
   "colors": {
    "hover_highlight": "#ece260",
    "navigate_num": "#000000",
    "navigate_text": "#000000",
    "running_highlight": "#FF0000",
    "selected_highlight": "#fff968",
    "sidebar_border": "#ffffff",
    "wrapper_background": "#ffffff"
   },
   "moveMenuLeft": false,
   "nav_menu": {
    "height": "12px",
    "width": "250px"
   },
   "navigate_menu": true,
   "number_sections": true,
   "sideBar": true,
   "threshold": 4,
   "toc_cell": false,
   "toc_section_display": "block",
   "toc_window_display": true,
   "widenNotebook": false
  },
  "varInspector": {
   "cols": {
    "lenName": 16,
    "lenType": 16,
    "lenVar": 40
   },
   "kernels_config": {
    "python": {
     "delete_cmd_postfix": "",
     "delete_cmd_prefix": "del ",
     "library": "var_list.py",
     "varRefreshCmd": "print(var_dic_list())"
    },
    "r": {
     "delete_cmd_postfix": ") ",
     "delete_cmd_prefix": "rm(",
     "library": "var_list.r",
     "varRefreshCmd": "cat(var_dic_list()) "
    }
   },
   "types_to_exclude": [
    "module",
    "function",
    "builtin_function_or_method",
    "instance",
    "_Feature"
   ],
   "window_display": false
  }
 },
 "nbformat": 4,
 "nbformat_minor": 2
}
