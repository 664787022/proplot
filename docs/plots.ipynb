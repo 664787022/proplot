{
 "cells": [
  {
   "cell_type": "markdown",
   "metadata": {},
   "source": [
    "# Plotting features"
   ]
  },
  {
   "cell_type": "markdown",
   "metadata": {},
   "source": [
    "ProPlot adds new features to various `~matplotlib.axes.Axes` plotting methods thanks to a set of wrapper functions. These features are a strict *superset* of the existing matplotlib API -- if you want, you can use plotting commands exactly as you always have. For details, see the `~proplot.axes` documentation."
   ]
  },
  {
   "cell_type": "markdown",
   "metadata": {},
   "source": [
    "## Standardized input \n",
    "\n",
    "The `~proplot.wrappers.standardize_1d` and `~proplot.wrappers.standardize_2d` functions are used to standardize the input of a bunch of different plotting functions. See the documentation for details.\n",
    "\n",
    "`~proplot.wrappers.standardize_1d` allows you to optionally omit *x* coordinates (in which case they are inferred from the *y* coordinates) or pass 2D *y* coordinate arrays (in which case the plotting method is called with each column of the array).\n",
    "\n",
    "`~proplot.wrappers.standardize_2d` allows you to optionally omit *x* and *y* coordinates (in which case they are inffered from the data array), guesses graticule edges for `pcolor` and `pcolormesh` plots, and optionally enforces global data coverage when plotting in :ref:`Projection axes`."
   ]
  },
  {
   "cell_type": "markdown",
   "metadata": {},
   "source": [
    "## Pandas and xarray integration"
   ]
  },
  {
   "cell_type": "markdown",
   "metadata": {},
   "source": [
    "The `~proplot.wrappers.standardize_1d` and `~proplot.wrappers.standardize_2d` functions also support integration with [pandas DataFrames](https://pandas.pydata.org/pandas-docs/stable/reference/api/pandas.DataFrame.html) and [xarray DataArrays](http://xarray.pydata.org/en/stable/data-structures.html). When you pass a DataFrame or DataArray to any plotting command, the x-axis label, y-axis label, legend label, colorbar label, and/or title are configured from the metadata. This restores some of the convenience you get with the builtin [pandas](https://pandas.pydata.org) and [xarray](https://pandas.pydata.org) plotting functions. This feature is *optional*, and does not require that `pandas` or `xarray` is installed.\n",
    "\n",
    "This feature is showcased below for 1-dimensional and 2-dimensional datasets. For more on the `colorbar` and `legend` keyword args, see :ref:`Axes colorbars and legends`."
   ]
  },
  {
   "cell_type": "code",
   "execution_count": null,
   "metadata": {},
   "outputs": [],
   "source": [
    "import xarray as xr\n",
    "import numpy as np\n",
    "import pandas as pd\n",
    "import proplot as plot\n",
    "# DataArray\n",
    "# Must be column major since plot draws lines from columns of arrays\n",
    "data = np.sin(np.linspace(0, 2*np.pi, 20))[:,None] + np.random.rand(20,8).cumsum(axis=1)\n",
    "da = xr.DataArray(data, dims=('x', 'cat'), coords={\n",
    "    'x':xr.DataArray(np.linspace(0,1,20), dims=('x',), attrs={'long_name':'distance', 'units':'km'}),\n",
    "    'cat':xr.DataArray(np.arange(0,80,10), dims=('cat',), attrs={'long_name':'parameter', 'units':'K'})\n",
    "    }, name='position series')\n",
    "# DataFrame\n",
    "plot.rc.reset()\n",
    "ts = pd.date_range('1/1/2000', periods=20)\n",
    "data = (np.cos(np.linspace(0, 2*np.pi, 20))**4)[:,None] + np.random.rand(20,5)**2\n",
    "df = pd.DataFrame(data, index=ts, columns=['foo','bar','baz','zap','baf'])\n",
    "df.name = 'time series'\n",
    "df.index.name = 'time (s)'\n",
    "df.columns.name = 'columns'"
   ]
  },
  {
   "cell_type": "code",
   "execution_count": null,
   "metadata": {},
   "outputs": [],
   "source": [
    "# Figure\n",
    "f, axs = plot.subplots(ncols=2, axwidth=2.2, share=0)\n",
    "axs.format(suptitle='Automatic subplot formatting')\n",
    "# Plot DataArray\n",
    "cycle = plot.Cycle(plot.shade('light blue', 0.4), fade=90, space='hcl')\n",
    "axs[0].plot(da, cycle=cycle, lw=3, colorbar='ul', colorbar_kw={'locator':20})\n",
    "# Plot Dataframe\n",
    "cycle = plot.Cycle(plot.shade('jade', 0.4), fade=90, space='hcl')\n",
    "axs[1].plot(df, cycle=cycle, lw=3, legend='uc')"
   ]
  },
  {
   "cell_type": "code",
   "execution_count": null,
   "metadata": {},
   "outputs": [],
   "source": [
    "import xarray as xr\n",
    "import numpy as np\n",
    "import pandas as pd\n",
    "import proplot as plot\n",
    "from string import ascii_lowercase\n",
    "# DataArray\n",
    "data = 50*(np.sin(np.linspace(0, 2*np.pi, 20) + 0)**2) * np.cos(np.linspace(0, np.pi, 20)+np.pi/2)[:,None]**2\n",
    "da = xr.DataArray(data, dims=('plev','lat'), coords={\n",
    "    'plev':xr.DataArray(np.linspace(1000,0,20), dims=('plev',), attrs={'long_name':'pressure', 'units':'hPa'}),\n",
    "    'lat':xr.DataArray(np.linspace(-90,90,20), dims=('lat',), attrs={'units':'degN'}), # if long_name absent, variable name is used\n",
    "    }, name='u', attrs={'long_name':'zonal wind', 'units':'m/s'})\n",
    "# DataFrame\n",
    "data = np.random.rand(20,20)\n",
    "df = pd.DataFrame(data.cumsum(axis=0).cumsum(axis=1), index=[*'JFMAMJJASONDJFMAMJJA'])\n",
    "df.name = 'temporal data'\n",
    "df.index.name = 'index'\n",
    "df.columns.name = 'time (days)'"
   ]
  },
  {
   "cell_type": "code",
   "execution_count": null,
   "metadata": {},
   "outputs": [],
   "source": [
    "# Figure\n",
    "f, axs = plot.subplots(nrows=2, axwidth=2.2, share=0)\n",
    "axs.format(collabels=['Automatic subplot formatting']) # suptitle will look off center with the empty left panel\n",
    "# Plot DataArray\n",
    "axs[0].contourf(da, cmap='Greens', cmap_kw={'left':0.05}, colorbar='l', linewidth=0.7, color='gray7')\n",
    "axs[0].format(yreverse=True)\n",
    "# Plot DataFrame\n",
    "axs[1].contourf(df, cmap='Blues', colorbar='r', linewidth=0.7, color='gray7')\n",
    "axs[1].format(xtickminor=False)"
   ]
  },
  {
   "cell_type": "markdown",
   "metadata": {},
   "source": [
    "## Colorbar and legend features"
   ]
  },
  {
   "cell_type": "markdown",
   "metadata": {},
   "source": [
    "The `~proplot.subplots.Figure` and `~proplot.axes.Axes` colorbar and legend methods are wrapped by `~proplot.wrappers.colorbar_wrapper` and `~proplot.wrappers.legend_wrapper`, which add several new features.\n",
    "\n",
    "`~proplot.wrappers.colorbar_wrapper` can draw colorbars from *lists of colors* or *lists of artists* by passing a list instead of a \"mappable\" object -- a colormap is constructed from the corresponding colors on-the-fly. To change outline, divider, tick location, tick label, and colorbar label settings, just pass the appropriate keyword arg to `~proplot.wrappers.colorbar_wrapper`.\n",
    "\n",
    "`~proplot.wrappers.legend_wrapper` can draw legends with *centered legend rows*, either by passing `center=True` or by passing *list of lists* of plot handles. This is accomplished by stacking multiple single-row, horizontally centered legends, then manually adding an encompassing legend frame. You can also switch between row-major and column-major order for legend entries (the new default is row-major), and modify legend text properties and handle properties."
   ]
  },
  {
   "cell_type": "code",
   "execution_count": null,
   "metadata": {},
   "outputs": [],
   "source": [
    "import proplot as plot\n",
    "import numpy as np\n",
    "f, axs = plot.subplots(share=0, ncols=2)\n",
    "ax = axs[0]\n",
    "data = 1 + (np.random.rand(12,10)-0.45).cumsum(axis=0)\n",
    "cycle = plot.Cycle('algae')\n",
    "hs = ax.plot(data, lw=4, cycle=cycle, colorbar='lr', colorbar_kw={'length':'8em', 'label':'changed values'})\n",
    "ax.colorbar(hs, loc='t', values=np.linspace(0.5,9.5,10)*2, label='line values', length=0.7, ticks=2)\n",
    "ax = axs[1]\n",
    "m = ax.contourf(data.T, extend='both', cmap='algae')\n",
    "f.colorbar(m, length=1, loc='r', label='flipped tick location', tickloc='left', grid=True)\n",
    "ax.colorbar(m, loc='ul', length=1, tickminor=True, extendrect=True,\n",
    "            label='changed outline', labelcolor='gray7', labelweight='bold',\n",
    "            linewidth=1, edgecolor='gray7', ticklabelcolor='gray7', alpha=0.5)\n",
    "axs.format(suptitle='Colorbar formatting demo', xlabel='xlabel', ylabel='ylabel', top=False)"
   ]
  },
  {
   "cell_type": "code",
   "execution_count": null,
   "metadata": {},
   "outputs": [],
   "source": [
    "import proplot as plot\n",
    "import numpy as np\n",
    "plot.rc.cycle = 'contrast'\n",
    "labels = ['a', 'bb', 'ccc', 'dddd', 'eeeee']\n",
    "f, axs = plot.subplots(ncols=2, span=False, share=1)\n",
    "hs1, hs2 = [], []\n",
    "# Plot lines and add to legends on-the-fly\n",
    "for i,label in enumerate(labels):\n",
    "    data = (np.random.rand(20)-0.45).cumsum(axis=0)\n",
    "    h1 = axs[0].plot(data, lw=4, label=label, legend='ul',\n",
    "                     legend_kw={'order':'F', 'title':'column major'}) # add to legend in upper left\n",
    "    hs1.extend(h1)\n",
    "    h2 = axs[1].plot(data, lw=4, label=label, legend='r', cycle='floral',\n",
    "                     legend_kw={'ncols':1, 'frame':False, 'title':'no frame'}) # add to legend in right panel\n",
    "    hs2.extend(h2)\n",
    "# Outer legends\n",
    "ax = axs[0]\n",
    "ax.legend(hs1, loc='b', ncols=3, linewidth=2, title='row major', order='C',\n",
    "          edgecolor='gray4', facecolor='gray2')\n",
    "ax = axs[1]\n",
    "ax.legend(hs2, loc='b', ncols=3, center=True, title='centered legend',\n",
    "         handlelength=1) # also works!\n",
    "axs.format(xlabel='xlabel', ylabel='ylabel', suptitle='Legend formatting demo')"
   ]
  },
  {
   "cell_type": "markdown",
   "metadata": {},
   "source": [
    "## Colormaps and color cycles"
   ]
  },
  {
   "cell_type": "markdown",
   "metadata": {},
   "source": [
    "The `~proplot.wrappers.cmap_changer` and `~proplot.wrappers.cycle_changer` wrappers allow you to create and apply new colormaps and property cyclers on-the-fly. See :ref:`Making your own colormaps` and :ref:`Making your own color cycles` for details.\n",
    "\n",
    "`~proplot.wrappers.cmap_changer` also implements several other useful features. See :ref:`Colormap levels`, :ref:`Colormap normalizers`, and :ref:`Contour and pcolor labels` for details."
   ]
  },
  {
   "cell_type": "markdown",
   "metadata": {},
   "source": [
    "## Colormap levels"
   ]
  },
  {
   "cell_type": "markdown",
   "metadata": {},
   "source": [
    "`~proplot.wrappers.cmap_changer` assigns the `~proplot.styletools.BinNorm` \"meta-normalizer\" as the data normalizer for all plotting commands involving colormaps. This permits discrete `levels` even for commands like `~matplotlib.axes.Axes.pcolor` and `~matplotlib.axes.Axes.pcolormesh`. `~proplot.styletools.BinNorm` also ensures that colorbar colors span the entire colormap range, independent of the `extend` setting, and that color levels on the ends of colorbars for \"cyclic\" colormaps are distinct."
   ]
  },
  {
   "cell_type": "code",
   "execution_count": null,
   "metadata": {},
   "outputs": [],
   "source": [
    "import proplot as plot\n",
    "import numpy as np\n",
    "f, axs = plot.subplots(ncols=2, axwidth=2)\n",
    "cmap = 'spectral'\n",
    "data = (np.random.rand(15,15)-0.5).cumsum(axis=0)\n",
    "axs.format(suptitle='Pcolor with levels demo')\n",
    "ax = axs[0]\n",
    "ax.pcolor(data, cmap=cmap, N=200, symmetric=True, colorbar='l', colorbar_kw={'locator':0.5})\n",
    "ax.format(title='Ambiguous values', yformatter='null')\n",
    "ax = axs[1]\n",
    "ax.pcolor(data, cmap=cmap, N=8, symmetric=True, colorbar='r')\n",
    "ax.format(title='Discernible levels')"
   ]
  },
  {
   "cell_type": "code",
   "execution_count": null,
   "metadata": {},
   "outputs": [],
   "source": [
    "import proplot as plot\n",
    "import numpy as np\n",
    "f, axs = plot.subplots(ncols=5, axwidth=2, ref=1, wratios=(5,3,3,3,3))\n",
    "axs.format(suptitle='Demo of colorbar color-range standardization')\n",
    "levels = plot.arange(0,360,45)\n",
    "data = (20*(np.random.rand(20,20) - 0.4).cumsum(axis=0).cumsum(axis=1)) % 360\n",
    "ax = axs[0]\n",
    "ax.pcolormesh(data, levels=levels, cmap='phase', extend='neither', colorbar='b')\n",
    "ax.format(title='Cyclic map with separate ends')\n",
    "for ax,extend in zip(axs[1:], ('min','max','neither','both')):\n",
    "    ax.pcolormesh(data[:,:10], levels=levels, cmap='oxy', extend=extend, colorbar='b', colorbar_kw={'locator':90})\n",
    "    ax.format(title=f'Map with extend={extend}')"
   ]
  },
  {
   "cell_type": "markdown",
   "metadata": {},
   "source": [
    "##  Colormap normalizers"
   ]
  },
  {
   "cell_type": "markdown",
   "metadata": {},
   "source": [
    "If you pass unevenly spaced `levels`, the `~proplot.styletools.LinearSegmentedNorm` normalizer is applied by default. This results in even color gradations across *indices* of the level list, no matter their spacing. To use an arbitrary colormap normalizer, just pass `norm` and optionally `norm_kw` to a command wrapped by `~proplot.wrappers.cmap_changer`. These arguments are passed to the `~proplot.styletools.Norm` constructor."
   ]
  },
  {
   "cell_type": "code",
   "execution_count": null,
   "metadata": {},
   "outputs": [],
   "source": [
    "import proplot as plot\n",
    "import numpy as np\n",
    "f, axs = plot.subplots(ncols=2, axwidth=2.5, aspect=1.5)\n",
    "data = 10**(2*np.random.rand(20,20).cumsum(axis=0)/7)\n",
    "ticks = [5, 10, 20, 50, 100, 200, 500, 1000]\n",
    "for i,(norm,title) in enumerate(zip(('linear','segments'),('Linear normalizer','LinearSegmentedNorm'))):\n",
    "    m = axs[i].contourf(data, levels=ticks, extend='both', cmap='Mako', norm=norm, colorbar='b')\n",
    "    axs[i].format(title=title)\n",
    "axs.format(suptitle='Level normalizers demo')"
   ]
  },
  {
   "cell_type": "markdown",
   "metadata": {},
   "source": [
    "Finally, there is a new `~proplot.styletools.MidpointNorm` class that warps your colormap so that its midpoint lies on some central data value, no matter the minimum and maximum colormap colors. Again, to use an arbitrary colormap normalizer, just pass `norm` and optionally `norm_kw` to a command wrapped by `~proplot.wrappers.cmap_changer`. These arguments are passed to the `~proplot.styletools.Norm` constructor."
   ]
  },
  {
   "cell_type": "code",
   "execution_count": null,
   "metadata": {},
   "outputs": [],
   "source": [
    "import proplot as plot\n",
    "import numpy as np\n",
    "data1 = (np.random.rand(20,20) - 0.43).cumsum(axis=0)\n",
    "data2 = (np.random.rand(20,20) - 0.57).cumsum(axis=0)\n",
    "f, axs = plot.subplots(ncols=2, axwidth=2.5, aspect=1.5)\n",
    "cmap = plot.Colormap('Moisture', cut=0.1)\n",
    "axs.format(suptitle='Midpoint normalizer demo')\n",
    "axs[0].contourf(data1, norm='midpoint', cmap=cmap, colorbar='b')\n",
    "axs[0].format(title='Skewed positive data')\n",
    "axs[1].contourf(data2, norm='midpoint', cmap=cmap, colorbar='b')\n",
    "axs[1].format(title='Skewed negative data')"
   ]
  },
  {
   "cell_type": "markdown",
   "metadata": {},
   "source": [
    "## Contour and pcolor labels"
   ]
  },
  {
   "cell_type": "markdown",
   "metadata": {},
   "source": [
    "Thanks to `~proplot.wrappers.cmap_changer`, you can now add labels to `~proplot.axes.Axes.heatmap`, `~matplotlib.axes.Axes.pcolor`, `~matplotlib.axes.Axes.pcolormesh`, `~matplotlib.axes.Axes.contour`, and `~matplotlib.axes.Axes.contourf` plots by simply passing `labels=True`. ProPlot draws contour labels with `~matplotlib.axes.Axes.clabel` or grid box labels with `~matplotlib.axes.Axes.text`. Label colors are automatically chosen b\n",
    "ased on the luminance of the underlying box or contour color. The label text objects can be changed with the `labels_kw` dictionary keyword arg and the `precision` keyword arg. See `~proplot.wrappers.cmap_changer` for details."
   ]
  },
  {
   "cell_type": "code",
   "execution_count": null,
   "metadata": {},
   "outputs": [],
   "source": [
    "import proplot as plot\n",
    "import pandas as pd\n",
    "import numpy as np\n",
    "# Heatmap with labels\n",
    "f, axs = plot.subplots([[1,1,2,2],[0,3,3,0]], axwidth=2, share=1, span=False)\n",
    "data = np.random.rand(6,6)\n",
    "data = pd.DataFrame(data, index=pd.Index(['a','b','c','d','e','f']))\n",
    "axs.format(xlabel='xlabel', ylabel='ylabel', suptitle='Labels demo')\n",
    "ax = axs[0]\n",
    "m = ax.heatmap(data, cmap='rocket', labels=True, precision=2, labels_kw={'weight':'bold'})\n",
    "ax.format(title='Heatmap plot with labels')\n",
    "# Filled contours with labels\n",
    "ax = axs[1]\n",
    "m = ax.contourf(data.cumsum(axis=0), labels=True, cmap='rocket', labels_kw={'weight':'bold'})\n",
    "ax.format(title='Filled contour plot with labels')\n",
    "# Simple contour plot\n",
    "ax = axs[2]\n",
    "ax.contour(data.cumsum(axis=1) - 2, color='gray8', labels=True, lw=2, labels_kw={'weight':'bold'})\n",
    "ax.format(title='Contour plot with labels')"
   ]
  },
  {
   "cell_type": "markdown",
   "metadata": {},
   "source": [
    "## Heatmap plots"
   ]
  },
  {
   "cell_type": "markdown",
   "metadata": {},
   "source": [
    "The new `~proplot.axes.Axes.heatmap` command calls `~matplotlib.axes.Axes.pcolormesh` and applies default formatting that is suitable for heatmaps -- that is, no gridlines, no minor ticks, and major ticks at the center of each box. Among other things, this is useful for displaying covariance matrices. See the below example."
   ]
  },
  {
   "cell_type": "code",
   "execution_count": null,
   "metadata": {},
   "outputs": [],
   "source": [
    "import proplot as plot\n",
    "import numpy as np\n",
    "import pandas as pd\n",
    "f, ax = plot.subplots(axwidth=4)\n",
    "data = np.random.normal(size=(10,10)).cumsum(axis=0)\n",
    "data = (data - data.mean(axis=0)) / data.std(axis=0)\n",
    "data = (data.T @ data) / data.shape[0]\n",
    "data[np.tril_indices(data.shape[0], -1)] = np.nan # empty boxes\n",
    "data = pd.DataFrame(data, columns=list('abcdefghij'), index=list('abcdefghij'))\n",
    "m = ax.heatmap(data, cmap='ColdHot', vmin=-1, vmax=1, N=100, labels=True, labels_kw={'weight':'bold'})\n",
    "ax.format(suptitle='Heatmap demo', title='Pseudo covariance matrix', alpha=0, linewidth=0,\n",
    "          xloc='top', yloc='right', yreverse=True, ticklabelweight='bold')"
   ]
  },
  {
   "cell_type": "markdown",
   "metadata": {},
   "source": [
    "## Simple error bars"
   ]
  },
  {
   "cell_type": "markdown",
   "metadata": {},
   "source": [
    "Thanks to the `~proplot.wrappers.add_errorbars` wrapper, you can now add error bars when using the `~matplotlib.axes.Axes.plot`, `~matplotlib.axes.Axes.scatter`, `~matplotlib.axes.Axes.bar`, `~matplotlib.axes.Axes.barh`, and `~matplotlib.axes.Axes.violinplot` methods. If you pass 2D arrays of data to these commands with ``means=True`` or ``medians=True``, the *means or medians* of each column are drawn as points, lines, or bars, and error bars represent the *spread* in each column. You can draw both thin \"bars\" with optional whiskers, and thick \"boxes\" overlayed on top of these bars.  You can also pass error bar coordinates manually with the `bardata` and `boxdata` keyword args. See `~proplot.wrappers.add_errorbars` for details."
   ]
  },
  {
   "cell_type": "code",
   "execution_count": null,
   "metadata": {},
   "outputs": [],
   "source": [
    "import proplot as plot\n",
    "import numpy as np\n",
    "import pandas as pd\n",
    "plot.rc['title.loc'] = 'uc'\n",
    "plot.rc['axes.ymargin'] = plot.rc['axes.xmargin'] = 0.05\n",
    "data = np.random.rand(20,8).cumsum(axis=0).cumsum(axis=1)[:,::-1] + 20*np.random.normal(size=(20,8)) + 30\n",
    "f, axs = plot.subplots(nrows=3, aspect=1.5, axwidth=3, share=0, hratios=(2,1,1))\n",
    "axs.format(suptitle='Error bars with various plotting commands')\n",
    "# Asking add_errorbars to calculate bars\n",
    "ax = axs[0]\n",
    "obj = ax.barh(data, color='red orange', means=True)\n",
    "ax.format(title='Column statistics')\n",
    "# Showing a standard deviation range instead of percentile range\n",
    "ax = axs[1]\n",
    "ax.scatter(data, color='k', marker='x', markersize=50, barcolor='gray5',\n",
    "           medians=True, barstd=True, barrange=(-1,1), barzorder=0, boxes=False, capsize=2)\n",
    "# Supplying error bar data manually\n",
    "ax = axs[2]\n",
    "boxdata = np.percentile(data, (25,75), axis=0)\n",
    "bardata = np.percentile(data, (5,95), axis=0)\n",
    "ax.plot(data.mean(axis=0), boxes=False, marker='o', markersize=5,\n",
    "        edgecolor='k', color='cerulean', boxdata=boxdata, bardata=bardata)\n",
    "# Formatting\n",
    "axs[0].format(ylabel='column number', title='Bar plot', ygrid=False)\n",
    "axs[1].format(title='Scatter plot')\n",
    "axs[2].format(title='Line plot')\n",
    "axs[1:].format(xlabel='column number', xticks=1, xgrid=False)"
   ]
  },
  {
   "cell_type": "markdown",
   "metadata": {},
   "source": [
    "## Bar plots and area plots"
   ]
  },
  {
   "cell_type": "markdown",
   "metadata": {},
   "source": [
    "`~proplot.wrappers.bar_wrapper` and `~proplot.wrappers.cycle_changer` make it easier to generate useful bar plots. You can now pass 2D arrays to `~matplotlib.axes.Axes.bar` or `~matplotlib.axes.Axes.barh`, and columns of data will be *grouped* or *stacked* together. And if *x* coordinates are not provided, default coordinates are applied, just like with `~matplotlib.axes.Axes.plot`. See `~proplot.wrappers.bar_wrapper` for details."
   ]
  },
  {
   "cell_type": "code",
   "execution_count": null,
   "metadata": {},
   "outputs": [],
   "source": [
    "import proplot as plot\n",
    "import numpy as np\n",
    "import pandas as pd\n",
    "plot.rc.titleloc = 'uc'\n",
    "plot.rc.margin = 0.05\n",
    "f, axs = plot.subplots(nrows=2, aspect=2, axwidth=3.5, share=0, hratios=(3,2))\n",
    "data = np.random.rand(5,5).cumsum(axis=0).cumsum(axis=1)[:,::-1]\n",
    "data = pd.DataFrame(data, columns=pd.Index(np.arange(1,6), name='column'), index=pd.Index(['a','b','c','d','e'], name='row idx'))\n",
    "ax = axs[0]\n",
    "obj = ax.bar(data, cycle='Reds', colorbar='ul', edgecolor='red9', colorbar_kw={'frameon':False})\n",
    "ax.format(xlocator=1, xminorlocator=0.5, ytickminor=False, title='Side-by-side', suptitle='Bar plot wrapper demo')\n",
    "ax = axs[1]\n",
    "obj = ax.barh(data.iloc[::-1,:], cycle='Blues', legend='ur', edgecolor='blue9', stacked=True)\n",
    "ax.format(title='Stacked')\n",
    "axs.format(grid=False)"
   ]
  },
  {
   "cell_type": "markdown",
   "metadata": {},
   "source": [
    "To make area plots, use the convenient `fill_between` aliases `~proplot.axes.Axes.area` and `~proplot.axes.Axes.areax`. These are wrapped with `~proplot.wrappers.fill_between_wrapper` and `~proplot.wrappers.fill_betweenx_wrapper`.\n",
    "\n",
    "The `fill_between` wrappers enable \"stacking\" successive columns of a 2D input array like in `pandas`. They also add a new \"`negpos`\" keyword for creating area plots that change color when the fill boundaries cross each other. The most common use case for this is highlighting negative and positive area underneath a line, as shown below."
   ]
  },
  {
   "cell_type": "code",
   "execution_count": null,
   "metadata": {},
   "outputs": [],
   "source": [
    "import proplot as plot\n",
    "import numpy as np\n",
    "plot.rc.reset()\n",
    "plot.rc.margin = 0\n",
    "f, axs = plot.subplots(array=[[1,2],[3,3]], hratios=(1,0.8), share=0)\n",
    "axs.format(xlabel='xlabel', ylabel='ylabel', suptitle='Area plot demo')\n",
    "data = np.random.rand(5,3).cumsum(axis=0)\n",
    "cycle = ('gray3', 'gray5', 'gray7')\n",
    "ax = axs[0]\n",
    "ax.areax(np.arange(5), data, data + np.random.rand(5)[:,None], cycle=cycle, alpha=0.5,\n",
    "        legend='uc', legend_kw={'center':True, 'ncols':2, 'labels':['z','y','qqqq']},\n",
    "        )\n",
    "ax.format(title='Fill between columns')\n",
    "ax = axs[1]\n",
    "ax.area(np.arange(5), data, stacked=True, cycle=cycle, alpha=0.8,\n",
    "        legend='ul', legend_kw={'center':True, 'ncols':2, 'labels':['z','y','qqqq']},\n",
    "        )\n",
    "ax.format(title='Stack between columns')\n",
    "ax = axs[2]\n",
    "data = 5*(np.random.rand(20)-0.5)\n",
    "ax.area(data, negpos=True, negcolor='blue7', poscolor='red7')\n",
    "ax.format(title='Negative and positive data', xlabel='xlabel', ylabel='ylabel')\n",
    "axs.format(grid=False)"
   ]
  },
  {
   "cell_type": "markdown",
   "metadata": {},
   "source": [
    "## Box plots and violin plots"
   ]
  },
  {
   "cell_type": "markdown",
   "metadata": {},
   "source": [
    "`~matplotlib.axes.Axes.boxplot` and `~matplotlib.axes.Axes.violinplot` are now wrapped with `~proplot.wrappers.boxplot_wrapper`, `~proplot.wrappers.violinplot_wrapper`, and `~proplot.wrappers.cycle_changer`, making it much easier to plot distributions of data with aesthetically pleasing default settings and automatic axis labeling."
   ]
  },
  {
   "cell_type": "code",
   "execution_count": null,
   "metadata": {},
   "outputs": [],
   "source": [
    "import proplot as plot\n",
    "import numpy as np\n",
    "import pandas as pd\n",
    "N = 500\n",
    "f, axs = plot.subplots(ncols=2)\n",
    "data = np.random.normal(size=(N,5)) + 2*(np.random.rand(N,5)-0.5)*np.arange(5)\n",
    "data = pd.DataFrame(data, columns=pd.Index(['a','b','c','d','e'], name='xlabel'))\n",
    "ax = axs[0]\n",
    "obj1 = ax.boxplot(data, lw=0.7, marker='x', fillcolor='gray5', medianlw=1, mediancolor='k')#, boxprops={'color':'C0'})#, labels=data.columns)\n",
    "ax.format(title='Box plots', titleloc='uc')\n",
    "ax = axs[1]\n",
    "obj2 = ax.violinplot(data, lw=0.7, fillcolor='gray7', points=500, bw_method=0.3, means=True)\n",
    "ax.format(title='Violin plots', titleloc='uc')\n",
    "axs.format(ymargin=0.1, xmargin=0.1, grid=False, suptitle='Boxes and violins demo')"
   ]
  },
  {
   "cell_type": "markdown",
   "metadata": {},
   "source": [
    "## Parametric plots"
   ]
  },
  {
   "cell_type": "markdown",
   "metadata": {},
   "source": [
    "`~matplotlib.axes.Axes.plot` now accepts a `cmap` keyword -- this lets you draw line collections that map individual segments of the line to individual colors. This can be useful for drawing \"parametric\" plots, where you want to indicate the time or some other coordinate at each point on the line. See `~proplot.axes.Axes.cmapline` for details."
   ]
  },
  {
   "cell_type": "code",
   "execution_count": null,
   "metadata": {},
   "outputs": [],
   "source": [
    "import proplot as plot\n",
    "import numpy as np\n",
    "plot.rc.reset()\n",
    "N = 50\n",
    "cmap = 'IceFire'\n",
    "values = np.linspace(-N/2, N/2, N)\n",
    "f, axs = plot.subplots(share=0, ncols=2, wratios=(2,1), axwidth='6cm', aspect=(2,1))\n",
    "ax = axs[0]\n",
    "m = ax.plot((np.random.rand(N)-0.5).cumsum(), np.random.rand(N), cmap=cmap, values=values, lw=7, extend='both')\n",
    "ax.format(xlabel='xlabel', ylabel='ylabel', title='Line with smooth color gradations', titleweight='bold')\n",
    "ax.colorbar(m, loc='b', label='parametric coordinate', locator=5)\n",
    "N = 12\n",
    "ax = axs[1]\n",
    "values = np.linspace(-N/2, N/2 - 1, N)\n",
    "radii = np.linspace(1,0.2,N)\n",
    "angles = np.linspace(0,4*np.pi,N)\n",
    "x = radii*np.cos(1.4*angles)\n",
    "y = radii*np.sin(1.4*angles)\n",
    "m = ax.plot(x, y, values=values, linewidth=15, interp=False, cmap=cmap)\n",
    "ax.format(xlim=(-1,1), ylim=(-1,1), title='With step gradations', titleweight='bold', xlabel='cosine angle', ylabel='sine angle')\n",
    "ax.colorbar(m, loc='b', maxn=10, label=f'parametric coordinate')"
   ]
  },
  {
   "cell_type": "markdown",
   "metadata": {},
   "source": [
    "## Misc enhancements"
   ]
  },
  {
   "cell_type": "markdown",
   "metadata": {},
   "source": [
    "Thanks to `~proplot.wrappers.scatter_wrapper` and `~proplot.wrappers.cycle_changer`, `~matplotlib.axes.Axes.scatter` now accepts 2D arrays, just like `~matplotlib.axes.Axes.plot`, and successive calls to `~matplotlib.axes.Axes.scatter` can apply property cycle keys other than `color` -- for example, `marker` and `markersize`. `~matplotlib.axes.Axes.scatter` also now optionally accepts keywords that look like the `~matplotlib.axes.Axes.plot` keywords, which is a bit less confusing. You can also pass colormaps to `~matplotlib.axes.Axes.scatter` just as with matplotlib.\n",
    "\n",
    "I am also considering supporting 2D array input and property cycle iteration for more obscure matplotlib plotting commands like `~matplotlib.axes.Axes.stem`, `~matplotlib.axes.Axes.step`, `~matplotlib.axes.Axes.vlines`, and `~matplotlib.axes.Axes.hlines`. Stay tuned!"
   ]
  },
  {
   "cell_type": "code",
   "execution_count": null,
   "metadata": {},
   "outputs": [],
   "source": [
    "import proplot as plot\n",
    "import numpy as np\n",
    "import pandas as pd\n",
    "plot.rc.reset()\n",
    "f, axs = plot.subplots(ncols=2, share=1)\n",
    "x = (np.random.rand(20)-0).cumsum()\n",
    "data = (np.random.rand(20,4)-0.5).cumsum(axis=0)\n",
    "data = pd.DataFrame(data, columns=pd.Index(['a','b','c','d'], name='label'))\n",
    "# Scatter demo\n",
    "ax = axs[0]\n",
    "ax.format(title='Extra prop cycle properties', suptitle='Scatter plot demo')\n",
    "obj = ax.scatter(x, data, legend='ul', cycle='warm', legend_kw={'ncols':2},\n",
    "                cycle_kw={'marker':['x','o','x','o'], 'markersize':[5,10,20,30]})\n",
    "ax = axs[1]\n",
    "ax.format(title='Scatter plot with cmap')\n",
    "data = (np.random.rand(2,100)-0.5)\n",
    "obj = ax.scatter(*data, color=data.sum(axis=0), size=np.random.rand(100), smin=3, smax=30,\n",
    "                 marker='o', cmap='dusk', colorbar='lr', colorbar_kw={'locator':0.5, 'label':'label'})\n",
    "axs.format(xlabel='xlabel', ylabel='ylabel')"
   ]
  }
 ],
 "metadata": {
  "kernelspec": {
   "display_name": "Python 3",
   "language": "python",
   "name": "python3"
  },
  "language_info": {
   "codemirror_mode": {
    "name": "ipython",
    "version": 3
   },
   "file_extension": ".py",
   "mimetype": "text/x-python",
   "name": "python",
   "nbconvert_exporter": "python",
   "pygments_lexer": "ipython3",
   "version": "3.7.3"
  },
  "toc": {
   "colors": {
    "hover_highlight": "#ece260",
    "navigate_num": "#000000",
    "navigate_text": "#000000",
    "running_highlight": "#FF0000",
    "selected_highlight": "#fff968",
    "sidebar_border": "#ffffff",
    "wrapper_background": "#ffffff"
   },
   "moveMenuLeft": false,
   "nav_menu": {
    "height": "12px",
    "width": "250px"
   },
   "navigate_menu": true,
   "number_sections": true,
   "sideBar": true,
   "threshold": 4,
   "toc_cell": false,
   "toc_section_display": "block",
   "toc_window_display": true,
   "widenNotebook": false
  },
  "varInspector": {
   "cols": {
    "lenName": 16,
    "lenType": 16,
    "lenVar": 40
   },
   "kernels_config": {
    "python": {
     "delete_cmd_postfix": "",
     "delete_cmd_prefix": "del ",
     "library": "var_list.py",
     "varRefreshCmd": "print(var_dic_list())"
    },
    "r": {
     "delete_cmd_postfix": ") ",
     "delete_cmd_prefix": "rm(",
     "library": "var_list.r",
     "varRefreshCmd": "cat(var_dic_list()) "
    }
   },
   "types_to_exclude": [
    "module",
    "function",
    "builtin_function_or_method",
    "instance",
    "_Feature"
   ],
   "window_display": false
  }
 },
 "nbformat": 4,
 "nbformat_minor": 2
}
