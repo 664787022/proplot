{
 "cells": [
  {
   "cell_type": "markdown",
   "metadata": {},
   "source": [
    "# Creating figures"
   ]
  },
  {
   "cell_type": "markdown",
   "metadata": {},
   "source": [
    "## Starting point"
   ]
  },
  {
   "cell_type": "raw",
   "metadata": {
    "raw_mimetype": "text/restructuredtext"
   },
   "source": [
    "ProPlot works by subclassing the matplotlib `~matplotlib.figure.Figure` and `~matplotlib.axes.Axes` classes. These subclasses are returned when you use either of the two ProPlot workflows that mimic *pyplot* commands.\n",
    "\n",
    "1. The `~proplot.subplots.subplots` workflow.\n",
    "\n",
    "   .. code-block:: python\n",
    "   \n",
    "      import proplot as plot\n",
    "      f, axs = plot.subplots(...)\n",
    "      \n",
    "   Just like with the *pyplot* version, you can use `~proplot.subplots.subplots` without arguments to generate a single-axes subplot or with `ncols` or `nrows` to set up simple grids of subplots. \n",
    "    \n",
    "2. The `~proplot.subplots.Figure.add_subplot` workflow.\n",
    "\n",
    "   .. code-block:: python\n",
    "   \n",
    "       import proplot as plot\n",
    "       f = plot.figure(...)\n",
    "       ax1 = f.add_subplot(...)\n",
    "       ax2 = f.add_subplot(...)\n",
    "       \n",
    "   This is not yet posible, but coming soon!\n",
    "\n",
    "If you tend to use the `~matplotlib.pyplot` API and are not familiar with the \"axes\" and \"figure\" classes, you should first take a look at `this page <https://matplotlib.org/api/api_overview.html#the-pyplot-api>`__. The below example shows how using axes and figures directly is much more clear and concise than using the `~matplotlib.pyplot` API. The new axes and figure classes introduced by ProPlot are `~proplot.subplots.Figure`, `~proplot.axes.Axes`, `~proplot.axes.CartesianAxes`, `~proplot.axes.PolarAxes`, and `~proplot.axes.ProjectionAxes`. Their features are detailed in the following sections."
   ]
  },
  {
   "cell_type": "code",
   "execution_count": null,
   "metadata": {},
   "outputs": [],
   "source": [
    "# PyPlot API\n",
    "import matplotlib.pyplot as plt\n",
    "import numpy as np\n",
    "plt.figure(figsize=(5,3))\n",
    "plt.suptitle('PyPlot API')\n",
    "plt.subplot(121)\n",
    "plt.plot(2*(np.random.rand(100,5)-0.5).cumsum(axis=0), lw=2)\n",
    "plt.title('Title')\n",
    "plt.xlabel('x axis')\n",
    "plt.ylabel('y axis')\n",
    "plt.xticks(np.arange(0,100,10))\n",
    "plt.minorticks_off()\n",
    "plt.subplot(122)\n",
    "plt.title('Title')\n",
    "plt.xlabel('x axis')\n",
    "plt.ylabel('y axis')\n",
    "plt.xticks(np.arange(0,10))\n",
    "plt.minorticks_off()"
   ]
  },
  {
   "cell_type": "code",
   "execution_count": null,
   "metadata": {},
   "outputs": [],
   "source": [
    "# Object-oriented API\n",
    "import matplotlib.pyplot as plt\n",
    "import numpy as np\n",
    "f, axs = plt.subplots(ncols=2, figsize=(5,3))\n",
    "f.suptitle('Object-Oriented API')\n",
    "axs[0].plot(2*(np.random.rand(100,5)-0.5).cumsum(axis=0), lw=2)\n",
    "axs[0].set_xticks(np.arange(0,100,10))\n",
    "axs[0].minorticks_off()\n",
    "for ax in axs:\n",
    "    ax.set_title('Title')\n",
    "    ax.set_xlabel('x axis')\n",
    "    ax.set_ylabel('y axis')"
   ]
  },
  {
   "cell_type": "code",
   "execution_count": null,
   "metadata": {},
   "outputs": [],
   "source": [
    "# ProPlot API\n",
    "import proplot as plot\n",
    "import numpy as np\n",
    "f, axs = plot.subplots(ncols=2)\n",
    "axs[0].plot(2*(np.random.rand(100,5)-0.5).cumsum(axis=0), lw=2)\n",
    "axs[0].format(xticks=20, xtickminor=False)\n",
    "axs.format(suptitle='ProPlot API', title='Title', xlabel='x axis', ylabel='y axis')"
   ]
  },
  {
   "cell_type": "markdown",
   "metadata": {},
   "source": [
    "## Subplot layouts"
   ]
  },
  {
   "cell_type": "raw",
   "metadata": {
    "raw_mimetype": "text/restructuredtext"
   },
   "source": [
    "To draw complex subplot layouts in matplotlib, you have to call `~matplotlib.figure.Figure.add_subplot` a bunch of times in sequence. To draw complex layouts in ProPlot, you have the added option of passing a 2D array of integers to `~proplot.subplots.subplots`. Just think of this array as a \"picture\" of your figure, where each unique number corresponds to a unique axes."
   ]
  },
  {
   "cell_type": "code",
   "execution_count": null,
   "metadata": {},
   "outputs": [],
   "source": [
    "import proplot as plot\n",
    "import numpy as np\n",
    "data = 2*(np.random.rand(100,5)-0.5).cumsum(axis=0)\n",
    "f, axs = plot.subplots([[1,1,2,2],[0,3,3,0]], axwidth=1.5)\n",
    "axs.format(abc=True, abcloc='ul', suptitle='Complex subplot grid', xlabel='xlabel', ylabel='ylabel')\n",
    "axs[2].plot(data, lw=2)\n",
    "f, axs = plot.subplots([[1,1,2],[1,1,6],[3,4,4],[3,5,5]], width=5)\n",
    "axs.format(suptitle='Complex subplot grid with axis-sharing + spanning labels', xlabel='xlabel', ylabel='ylabel', abc=True)\n",
    "axs[0].plot(data, lw=2)"
   ]
  },
  {
   "cell_type": "markdown",
   "metadata": {},
   "source": [
    "## Subplot numbering"
   ]
  },
  {
   "cell_type": "raw",
   "metadata": {
    "raw_mimetype": "text/restructuredtext"
   },
   "source": [
    "Assigning unique numbers to axes is fundamental to ProPlot. The number order determines the order the subplots appear in the `~proplot.subplots.axes_grid` and the order of \"a-b-c\" labels generated by `~proplot.axes.Axes.format`. If you did not provide a 2D array, the number order is row-major by default but can be made column-major by passing `order='F'` to `~proplot.subplots.subplots`. Note that the \"a-b-c\" label position and style can be changed with `~proplot.axes.Axes.format`."
   ]
  },
  {
   "cell_type": "code",
   "execution_count": null,
   "metadata": {},
   "outputs": [],
   "source": [
    "import proplot as plot\n",
    "f, axs = plot.subplots(nrows=8, ncols=8, axwidth=0.7, space=0) \n",
    "axs.format(abc=True, abcloc='ur', xlabel='x axis', ylabel='y axis',\n",
    "           xticks=[], yticks=[], suptitle='Flush subplot grid')"
   ]
  },
  {
   "cell_type": "markdown",
   "metadata": {},
   "source": [
    "## Axes object containers"
   ]
  },
  {
   "cell_type": "raw",
   "metadata": {
    "raw_mimetype": "text/restructuredtext"
   },
   "source": [
    "Instead of an `~numpy.ndarray` of axes, `~proplot.subplots.subplots` returns a special `~proplot.subplots.axes_grid` container. This container behaves like a python list, but lets you call any command on multiple axes at once. It supports both 2D indexing (e.g. ``axs[0,1]``) and 1D indexing (e.g. ``axs[2]``), and is row-major by default. Further, slicing an axes grid (e.g. ``axs[:,0]``) returns another axes grid.\n",
    "\n",
    "You can make your own `~proplot.subplots.axes_grid` by passing a list of axes to the class, e.g. `axs = plot.axes_grid([ax1, ax2, ...])`. In the below example, the `~proplot.subplots.axes_grid` returned by `~proplot.subplots.subplots` is used to call :ref:`The format command` on several axes at once."
   ]
  },
  {
   "cell_type": "code",
   "execution_count": null,
   "metadata": {},
   "outputs": [],
   "source": [
    "import proplot as plot\n",
    "import numpy as np\n",
    "f, axs = plot.subplots(ncols=5, nrows=5, axwidth=0.8)\n",
    "axs[:,0].format(color='red8')\n",
    "axs[0,:].format(color='blue8')\n",
    "for ax in axs[1:,1:]:\n",
    "    ax.plot(np.random.rand(10,4), color='gray7', cycle_kw={'linestyle':('-',':','--','-.')})\n",
    "axs[0].format(color='black', linewidth=2)\n",
    "axs.format(xlabel='xlabel', ylabel='ylabel', suptitle='Axes grid demo')"
   ]
  }
 ],
 "metadata": {
  "celltoolbar": "Raw Cell Format",
  "kernelspec": {
   "display_name": "Python 3",
   "language": "python",
   "name": "python3"
  },
  "language_info": {
   "codemirror_mode": {
    "name": "ipython",
    "version": 3
   },
   "file_extension": ".py",
   "mimetype": "text/x-python",
   "name": "python",
   "nbconvert_exporter": "python",
   "pygments_lexer": "ipython3",
   "version": "3.7.3"
  },
  "toc": {
   "colors": {
    "hover_highlight": "#ece260",
    "navigate_num": "#000000",
    "navigate_text": "#000000",
    "running_highlight": "#FF0000",
    "selected_highlight": "#fff968",
    "sidebar_border": "#ffffff",
    "wrapper_background": "#ffffff"
   },
   "moveMenuLeft": false,
   "nav_menu": {
    "height": "84px",
    "width": "252px"
   },
   "navigate_menu": true,
   "number_sections": true,
   "sideBar": true,
   "threshold": 4,
   "toc_cell": false,
   "toc_section_display": "block",
   "toc_window_display": true,
   "widenNotebook": false
  },
  "varInspector": {
   "cols": {
    "lenName": 16,
    "lenType": 16,
    "lenVar": 40
   },
   "kernels_config": {
    "python": {
     "delete_cmd_postfix": "",
     "delete_cmd_prefix": "del ",
     "library": "var_list.py",
     "varRefreshCmd": "print(var_dic_list())"
    },
    "r": {
     "delete_cmd_postfix": ") ",
     "delete_cmd_prefix": "rm(",
     "library": "var_list.r",
     "varRefreshCmd": "cat(var_dic_list()) "
    }
   },
   "types_to_exclude": [
    "module",
    "function",
    "builtin_function_or_method",
    "instance",
    "_Feature"
   ],
   "window_display": false
  }
 },
 "nbformat": 4,
 "nbformat_minor": 2
}
