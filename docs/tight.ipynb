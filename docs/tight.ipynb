{
 "cells": [
  {
   "cell_type": "markdown",
   "metadata": {},
   "source": [
    "# Tight layout"
   ]
  },
  {
   "cell_type": "raw",
   "metadata": {
    "raw_mimetype": "text/restructuredtext"
   },
   "source": [
    "Matplotlib has a `tight layout algorithm <https://matplotlib.org/3.1.1/tutorials/intermediate/tight_layout_guide.html>`__ that automatically adjusts the space between subplots and around the figure edge to accomodate labels and plotted content.\n",
    "\n",
    "ProPlot introduces a *new* tight layout algorithm that permits *variable figure dimensions* and *variable spacing* between subplot rows and columns (see `~proplot.subplots.FlexibleGridSpecBase`). This allows the algorithm to preserve subplot aspect ratios, panel widths, and optionally, subplot physical dimensions, all without producing extra whitespace. The algorithm is also more robust to complex geometry. To turn it off, pass `tight=False` to `~proplot.subplots.subplots`."
   ]
  },
  {
   "cell_type": "markdown",
   "metadata": {},
   "source": [
    "## The new algorithm"
   ]
  },
  {
   "cell_type": "raw",
   "metadata": {
    "raw_mimetype": "text/restructuredtext"
   },
   "source": [
    "To fix the reference subplot dimension(s), use `axwidth`, `axheight`, or `aspect`. To fix the figure dimension(s), pass `width`, `height`, or `figsize` to `~proplot.subplots.subplots`. To set the reference subplot, use `ref` -- the default is ``1``, i.e. the subplot in the upper left corner. To turn off the algorithm, pass `tight=False` to `~proplot.subplots.Figure`.\n",
    "\n",
    "Note that if the `aspect ratio mode <https://matplotlib.org/2.0.2/examples/pylab_examples/equal_aspect_ratio.html>`__ for the reference subplot is set to ``'equal'``, as with :ref:`Projection axes` and `~matplotlib.axes.Axes.imshow` plots, the existing aspect will be used instead of the input `aspect`."
   ]
  },
  {
   "cell_type": "code",
   "execution_count": null,
   "metadata": {},
   "outputs": [],
   "source": [
    "import proplot as plot\n",
    "for ref in (1,2):\n",
    "    f, axs = plot.subplots(ref=ref, nrows=3, ncols=3, aspect=1, axwidth=1, wratios=(3,2,2), share=0)\n",
    "    axs[ref-1].format(title='reference axes', titleweight='bold', titleloc='uc', titlecolor='red9')\n",
    "    axs[4].format(title='title\\ntitle\\ntitle', suptitle='Tight layout with simple grids')\n",
    "    axs[1].format(ylabel='ylabel\\nylabel\\nylabel')\n",
    "    axs[:4:2].format(xlabel='xlabel\\nxlabel\\nxlabel')\n",
    "    axs.format(rowlabels=['Row 1', 'Row 2', 'Row 3'], collabels=['Column 1', 'Column 2', 'Column 3'])"
   ]
  },
  {
   "cell_type": "code",
   "execution_count": null,
   "metadata": {},
   "outputs": [],
   "source": [
    "import proplot as plot\n",
    "f, axs = plot.subplots([[1,1,2],[1,1,3],[4,5,3],[4,6,6],[7,7,8]], span=False)\n",
    "axs.format(xlabel='xlabel', ylabel='ylabel', suptitle='Super title')\n",
    "axs[0].format(xlabel='xlabel\\nxlabel\\nxlabel', title='reference axes', titleweight='bold', titleloc='uc', titlecolor='red9')\n",
    "axs[1].format(ylabel='ylabel\\nylabel\\nylabel', ytickloc='both', yticklabelloc='both', title='Title')\n",
    "axs[2:4].format(yformatter='null', title='Title', ytickloc='both', yticklabelloc='both')\n",
    "axs[4:].format(yformatter='null', xlabel='xlabel\\nxlabel\\nxlabel')\n",
    "axs.format(suptitle='Tight layout with complex grids', rowlabels=['Row 1', 'Row 2', 'Row 3'], collabels=['Column 1', 'Column 2'])"
   ]
  },
  {
   "cell_type": "code",
   "execution_count": null,
   "metadata": {},
   "outputs": [],
   "source": [
    "import proplot as plot\n",
    "f, axs = plot.subplots(axwidth=1.2, ncols=2, share=0)\n",
    "kw = {'share':False}\n",
    "axs[0].format(ylim=(0,1e-3), title='reference axes', titleweight='bold', titleloc='uc', titlecolor='red9')\n",
    "axs[0].panel('l', **kw).format(ytickloc='right', yticklabelloc='right')\n",
    "axs[0].panel('r', **kw).format(ylabel='ylabel', ytickloc='right', yticklabelloc='right')\n",
    "axs[0].panel('b', **kw).format(xlabel='xlabel')\n",
    "axs[1].panel('r', **kw).format(ylim=(0, 0.01), ylabel='ylabel')\n",
    "axs[1].format(ylabel='ylabel\\nylabel\\nylabel', xlabel='xlabel\\nxlabel\\nxlabel',\n",
    "              title='Title', top=False, collabels=['Column 1', 'Column 2'],\n",
    "              suptitle='Tight layout with axes panels')"
   ]
  },
  {
   "cell_type": "markdown",
   "metadata": {},
   "source": [
    "## Overriding the algorithm"
   ]
  },
  {
   "cell_type": "raw",
   "metadata": {
    "raw_mimetype": "text/restructuredtext"
   },
   "source": [
    "When you pass a spacing keyword argument like `left`, `right`, `top`, `bottom`, `wspace`, or `hspace` to `~proplot.subplots.Figure` or `~proplot.subplots.GridSpec`, that value is *always respected* -- the tight layout algorithm will not change it.\n",
    "\n",
    "For example, if you pass `left='2em'` to `~proplot.subplots.subplots`, the left margin is fixed but the right, bottom, and top margins are determined automatically. Similarly, if you pass ``wspace=('3em', None)`` and ``ncols=3`` to `~proplot.subplots.subplots`, the space between the first two columns is fixed, while the space between the second two columns is determined automatically. "
   ]
  },
  {
   "cell_type": "markdown",
   "metadata": {},
   "source": [
    "## Arbitrary units"
   ]
  },
  {
   "cell_type": "raw",
   "metadata": {
    "raw_mimetype": "text/restructuredtext"
   },
   "source": [
    "*Arbitrary units* are supported for most ProPlot keyword arguments, including the sizing arguments discussed here.\n",
    "\n",
    "That is, if a sizing argument is numeric, the units are inches or points, and if string, the units are interpreted by `~proplot.utils.units`. A table of acceptable units is found in the `~proplot.utils.units` documentation. They include centimeters, millimeters, pixels, and light years (because why not?)."
   ]
  },
  {
   "cell_type": "code",
   "execution_count": null,
   "metadata": {},
   "outputs": [],
   "source": [
    "import proplot as plot\n",
    "import numpy as np\n",
    "f, axs = plot.subplots(ncols=3, width='12cm', height='55mm', wspace=('10pt', '20pt'))\n",
    "axs.format(small='12px', large='15px', linewidth='0.5mm')\n",
    "axs.format(suptitle='Arguments with arbitrary units', xlabel='x axis', ylabel='y axis')"
   ]
  }
 ],
 "metadata": {
  "celltoolbar": "Raw Cell Format",
  "kernelspec": {
   "display_name": "Python 3",
   "language": "python",
   "name": "python3"
  },
  "language_info": {
   "codemirror_mode": {
    "name": "ipython",
    "version": 3
   },
   "file_extension": ".py",
   "mimetype": "text/x-python",
   "name": "python",
   "nbconvert_exporter": "python",
   "pygments_lexer": "ipython3",
   "version": "3.7.3"
  },
  "toc": {
   "colors": {
    "hover_highlight": "#ece260",
    "navigate_num": "#000000",
    "navigate_text": "#000000",
    "running_highlight": "#FF0000",
    "selected_highlight": "#fff968",
    "sidebar_border": "#ffffff",
    "wrapper_background": "#ffffff"
   },
   "moveMenuLeft": false,
   "nav_menu": {
    "height": "84px",
    "width": "252px"
   },
   "navigate_menu": true,
   "number_sections": true,
   "sideBar": true,
   "threshold": 4,
   "toc_cell": false,
   "toc_section_display": "block",
   "toc_window_display": true,
   "widenNotebook": false
  },
  "varInspector": {
   "cols": {
    "lenName": 16,
    "lenType": 16,
    "lenVar": 40
   },
   "kernels_config": {
    "python": {
     "delete_cmd_postfix": "",
     "delete_cmd_prefix": "del ",
     "library": "var_list.py",
     "varRefreshCmd": "print(var_dic_list())"
    },
    "r": {
     "delete_cmd_postfix": ") ",
     "delete_cmd_prefix": "rm(",
     "library": "var_list.r",
     "varRefreshCmd": "cat(var_dic_list()) "
    }
   },
   "types_to_exclude": [
    "module",
    "function",
    "builtin_function_or_method",
    "instance",
    "_Feature"
   ],
   "window_display": false
  }
 },
 "nbformat": 4,
 "nbformat_minor": 2
}
