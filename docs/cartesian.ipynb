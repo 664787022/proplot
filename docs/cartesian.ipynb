{
 "cells": [
  {
   "cell_type": "markdown",
   "metadata": {},
   "source": [
    "# Cartesian axes\n",
    "\n",
    "`~proplot.axes.CartesianAxes` is the *default* axes type returned by `~proplot.subplots.subplots`. The previous sections discussed features relevant to all figures generated with ProPlot, or with axes regardless of whether or not they are `~proplot.axes.ProjectionAxes`. This section documents the features specific to `~proplot.axes.CartesianAxes`."
   ]
  },
  {
   "cell_type": "markdown",
   "metadata": {},
   "source": [
    "## Axis tick locations"
   ]
  },
  {
   "cell_type": "markdown",
   "metadata": {},
   "source": [
    "ProPlot lets you easily specify tick locations with `~proplot.axes.Axes.format` (keyword args ``xlocator``, ``ylocator``, ``xminorlocator``, and ``yminorlocator``, or their aliases ``xticks``, ``yticks``, ``xminorticks``, and ``yminorticks``). Pass a number to tick every `N` data values, lookup a builtin matplotlib `~matplotlib.ticker` with a string key name, or pass a list of numbers to tick specific locations. I recommend using ProPlot's `~proplot.utils.arange` function to generate lists of ticks – it’s like numpy's `~numpy.arange`, but is *endpoint-inclusive*, which is usually what you'll want in this context. See `~proplot.axes.CartesianAxes.format` and `~proplot.axistools.Locator` for details."
   ]
  },
  {
   "cell_type": "code",
   "execution_count": null,
   "metadata": {},
   "outputs": [],
   "source": [
    "import proplot as plot\n",
    "import numpy as np\n",
    "plot.rc.reset()\n",
    "plot.rc.facecolor = plot.shade('powder blue', 1.15) # shade makes it a bit brighter, multiplies luminance channel by this much!\n",
    "plot.rc.update(linewidth=1, small=10, large=12, color='dark blue', suptitlecolor='dark blue')\n",
    "f, axs = plot.subplots(nrows=5, axwidth=5, aspect=(8,1), share=0, hspace=0.3)\n",
    "# Custom locations\n",
    "axs[0].format(xlim=(0,200), xminorlocator=10, xlocator=30, suptitle='Declaring tick locations with ProPlot')\n",
    "axs[1].format(xlim=(0,10), xlocator=[0,0.3,0.8,1.6,4.4,8,8.8,10], xminorlocator=0.1)\n",
    "# Locator classes\n",
    "axs[3].format(xlim=(1,10), xlocator=('maxn',20)) # specify the approx number of ticks you want, but not locations\n",
    "axs[2].format(xlim=(1,100), xlocator='log', xminorlocator='logminor') # automatically applied for log scale plots\n",
    "axs[4].plot(np.arange(10)-5, np.random.rand(10), alpha=0) # index locator, something must be plotted for it to work \n",
    "axs[4].format(xlim=(0,6), xlocator='index', xformatter=[r'$\\alpha$', r'$\\beta$', r'$\\gamma$', r'$\\delta$', r'$\\epsilon$', r'$\\zeta$', r'$\\eta$'])"
   ]
  },
  {
   "cell_type": "markdown",
   "metadata": {},
   "source": [
    "## Axis tick label formatting"
   ]
  },
  {
   "cell_type": "markdown",
   "metadata": {},
   "source": [
    "ProPlot changes the default axis formatter (i.e. the class used to convert float numbers to tick label strings). The new formatter trims trailing zeros by default, and can be used to *filter tick labels within some data range*, as demonstrated below. See `~proplot.axistools.AutoFormatter` for details."
   ]
  },
  {
   "cell_type": "code",
   "execution_count": null,
   "metadata": {},
   "outputs": [],
   "source": [
    "import proplot as plot\n",
    "plot.rc.reset()\n",
    "plot.rc.linewidth = 2\n",
    "plot.rc.small = plot.rc.large = 11\n",
    "locator = [0, 0.25, 0.5, 0.75, 1]\n",
    "f, axs = plot.subplots([[1,1,2,2],[0,3,3,0]], axwidth=1.5, share=0)\n",
    "axs[0].format(xformatter='scalar', yformatter='scalar', title='Matplotlib formatter')\n",
    "axs[1].format(yticklabelloc='both', title='ProPlot formatter')\n",
    "axs[:2].format(xlocator=locator, ylocator=locator)\n",
    "axs[2].format(title='Limiting the tick range', ticklen=5, xlim=(0,5), ylim=(0,5),\n",
    "              xtickrange=(0,2), ytickrange=(0,2), xlocator=1, ylocator=1)\n",
    "axs.format(ytickloc='both', yticklabelloc='both', titleweight='bold')"
   ]
  },
  {
   "cell_type": "markdown",
   "metadata": {},
   "source": [
    "ProPlot also lets you easily change the axis formatter with `~proplot.axes.Axes.format` (keyword args `xformatter` and `yformatter`, or their aliases `xticklabels` and `yticklabels`). The builtin matplotlib formatters can be referenced by string name, and several new formatters have been introduced -- for example, you can now easily label your axes as fractions or as geographic coordinates. You can also just pass a list of strings or a `%`-style format directive. See `~proplot.axes.CartesianAxes.format` and `~proplot.axistools.Formatter` for details."
   ]
  },
  {
   "cell_type": "code",
   "execution_count": null,
   "metadata": {},
   "outputs": [],
   "source": [
    "import proplot as plot\n",
    "import numpy as np\n",
    "plot.rc.reset()\n",
    "plot.rc.update(linewidth=1.2, small=10, large=12, facecolor='gray8', figurefacecolor='gray8',\n",
    "               suptitlecolor='w', gridcolor='w', color='w')\n",
    "f, axs = plot.subplots(nrows=6, axwidth=5, aspect=(8,1), share=0, hspace=0.3)\n",
    "# Fraction formatters\n",
    "axs[0].format(xlim=(0,4*np.pi), xlocator=plot.arange(0, 4, 0.25)*np.pi, xformatter='pi')\n",
    "axs[1].format(xlim=(0,2*np.e), xlocator=plot.arange(0, 2, 0.5)*np.e, xticklabels='e')\n",
    "# Geographic formatter\n",
    "axs[2].format(xlim=(-90,90), xlocator=plot.arange(-90, 90, 30), xformatter='deglat')\n",
    "# User input labels\n",
    "axs[3].format(xlim=(-1.01,1), xlocator=0.5, xticklabels=['a', 'b', 'c', 'd', 'e'])\n",
    "# Custom style labels\n",
    "axs[4].format(xlim=(0, 0.001), xlocator=0.0001, xformatter='%.E')\n",
    "axs[5].format(xlim=(0,100), xtickminor=False, xlocator=20, xformatter='{x:.1f}')\n",
    "axs.format(ylocator='null', suptitle='Setting tick styles with ProPlot')"
   ]
  },
  {
   "cell_type": "markdown",
   "metadata": {},
   "source": [
    "## New and old axis scales"
   ]
  },
  {
   "cell_type": "markdown",
   "metadata": {},
   "source": [
    "The axis scale can now be changed with `~proplot.axes.Axes.format`, and you can now use simpler keyword args to configure the `'log'` and `'symlog'` axis scales. See `~proplot.axes.CartesianAxes.format`, `~proplot.axistools.Scale`, `~proplot.axistools.LogScale` and `~proplot.axistools.SymmetricalLogScale` for details.\n",
    "\n",
    "ProPlot also adds several new axis scales. The `'cutoff'` scale is great when you have weirdly distributed data (see `~proplot.axistools.CutoffScaleFactory`). The `'sine'` scale scales the axis as the sine of the coordinate, resulting in an \"area-weighted\" spherical latitude coordinate. The `'inverse'` scale is perfect for labeling spectral coordinates (this is more useful with the `~proplot.axes.CartesianAxes.dualx` and `~proplot.axes.CartesianAxes.dualy` commands; see :ref:`Dual unit axes`)."
   ]
  },
  {
   "cell_type": "code",
   "execution_count": null,
   "metadata": {},
   "outputs": [],
   "source": [
    "import proplot as plot\n",
    "import numpy as np\n",
    "plot.rc.reset()\n",
    "plot.rc.update({'linewidth':1, 'ticklabelweight':'bold', 'axeslabelweight':'bold'})\n",
    "N = 200\n",
    "lw = 3\n",
    "f, axs = plot.subplots(ncols=2, nrows=2, axwidth=1.8, share=0)\n",
    "axs.format(suptitle='Changing the axis scale')\n",
    "# Linear and log scales\n",
    "axs[0].format(yscale='linear', ylabel='linear scale')\n",
    "axs[1].format(ylim=(1e-3, 1e3), yscale='log', yscale_kw={'subs':np.arange(1,10)}, ylabel='log scale')\n",
    "axs[:2].plot(np.linspace(0,1,N), np.linspace(0,1000,N), lw=lw)\n",
    "# Symlog and logit scales\n",
    "ax = axs[2]\n",
    "ax.format(yscale='symlog', yscale_kw={'linthresh':1}, ylabel='symlog scale')\n",
    "ax.plot(np.linspace(0,1,N), np.linspace(-1000,1000,N), lw=lw)\n",
    "ax = axs[3]\n",
    "ax.format(yscale='logit', ylabel='logit scale')\n",
    "ax.plot(np.linspace(0,1,N), np.linspace(0.01,0.99,N), lw=lw)"
   ]
  },
  {
   "cell_type": "code",
   "execution_count": null,
   "metadata": {},
   "outputs": [],
   "source": [
    "import proplot as plot\n",
    "import numpy as np\n",
    "plot.rc.reset()\n",
    "f, axs = plot.subplots(width=6, nrows=4, aspect=(5,1), sharex=False)\n",
    "# Compression\n",
    "ax = axs[0]\n",
    "x = np.linspace(0,4*np.pi,100)\n",
    "dy = np.linspace(-1,1,5)\n",
    "y1 = np.sin(x)\n",
    "y2 = np.cos(x)\n",
    "data = np.random.rand(len(dy)-1, len(x)-1)\n",
    "scales = [(3, np.pi), (0.3, 3*np.pi), (np.inf, np.pi, 2*np.pi), (5, np.pi, 2*np.pi)]\n",
    "titles = ('Zoom out of left', 'Zoom into left', 'Discrete cutoff', 'Fast jump')\n",
    "locators = [np.pi/3, np.pi/3, *([x*np.pi for x in plot.arange(0, 4, 0.25) if not (1 < x <= 2)] for i in range(2))]\n",
    "for ax,scale,title,locator in zip(axs,scales,titles,locators):\n",
    "    ax.pcolormesh(x, dy, data, cmap='grays', cmap_kw={'right': 0.8})\n",
    "    for y,color in zip((y1,y2), ('coral','sky blue')):\n",
    "        ax.plot(x, y, lw=4, color=color)\n",
    "    ax.format(xscale=('cutoff', *scale), title=title,\n",
    "              xlim=(0,4*np.pi), ylabel='wave amplitude', # note since 'spanning labels' turned on by default, only one label is drawn\n",
    "              xformatter='pi', xlocator=locator,\n",
    "              xtickminor=False, xgrid=True, ygrid=False, suptitle='Demo of cutoff scales')"
   ]
  },
  {
   "cell_type": "code",
   "execution_count": null,
   "metadata": {},
   "outputs": [],
   "source": [
    "import proplot as plot\n",
    "import numpy as np\n",
    "plot.rc.reset()\n",
    "f, axs = plot.subplots(nrows=3, ncols=2, axwidth=1.5, share=0)\n",
    "axs.format(rowlabels=['Power\\nscales', 'Exponential\\nscales', 'Geographic\\nscales'], suptitle='Demo of esoteric axis scales')\n",
    "x = np.linspace(0,1,50)\n",
    "y = 10*x\n",
    "data = np.random.rand(len(y)-1, len(x)-1)\n",
    "# Power scales\n",
    "colors = ('coral','sky blue')\n",
    "for ax,power,color in zip(axs[:2],(2,1/4),colors):\n",
    "    ax.pcolormesh(x, y, data, cmap='grays', cmap_kw={'right': 0.8})\n",
    "    ax.plot(x, y, lw=4, color=color)\n",
    "    ax.format(ylim=(0.1,10), yscale=('power',power), title=f'$x^{{{power}}}$')\n",
    "# Exp scales\n",
    "for ax,a,c,color in zip(axs[2:4],(np.e,2),(0.5,-1),colors):\n",
    "    ax.pcolormesh(x, y, data, cmap='grays', cmap_kw={'right': 0.8})\n",
    "    ax.plot(x, y, lw=4, color=color)\n",
    "    ax.format(ylim=(0.1,10), yscale=('exp',a,c), title=f'${(a,\"e\")[a==np.e]}^{{{c}x}}$')\n",
    "# Geographic scales\n",
    "n = 20\n",
    "x = np.linspace(-180,180,n)\n",
    "y = np.linspace(-85,85,n) # note sine just truncated values not in [-90,90], but Mercator transformation can reflect them\n",
    "y2 = np.linspace(-85,85,n) # for pcolor\n",
    "data = np.random.rand(len(x), len(y2))\n",
    "for ax,scale,color in zip(axs[4:],('sine','mercator'),('coral','sky blue')):\n",
    "    ax.plot(x, y, '-', color=color, lw=4)\n",
    "    ax.pcolormesh(x, y2, data, cmap='grays', cmap_kw={'right': 0.8}) # use 'right' to trim the colormap from 0-1 color range to 0-0.8 color range\n",
    "    ax.format(title=scale.title() + ' y-axis', yscale=scale,\n",
    "              ytickloc='left',\n",
    "              yformatter='deglat', grid=False, ylocator=20,\n",
    "              xscale='linear', xlim=None, ylim=(-85,85))"
   ]
  },
  {
   "cell_type": "markdown",
   "metadata": {},
   "source": [
    "## Datetime axis formatting"
   ]
  },
  {
   "cell_type": "markdown",
   "metadata": {},
   "source": [
    "Labeling datetime axes is incredibly easy with ProPlot. Pass a time-unit string as the `locator` argument, and the axis will be ticked at those units. Pass a `(unit, interval)` tuple to tick every `interval` `unit`s. Use the `formatter` argument for [%-style formatting of datetime](https://docs.python.org/3/library/datetime.html#strftime-strptime-behavior). Again, see `~proplot.axes.CartesianAxes.format`, `~proplot.axistools.Locator`, and `~proplot.axistools.Formatter` for details."
   ]
  },
  {
   "cell_type": "code",
   "execution_count": null,
   "metadata": {},
   "outputs": [],
   "source": [
    "import proplot as plot\n",
    "import numpy as np\n",
    "plot.rc.update(linewidth=1.2, small=10, large=12, ticklenratio=0.7)\n",
    "plot.rc.update(figurefacecolor='w', facecolor=plot.shade('C0', 2.7))\n",
    "f, axs = plot.subplots(nrows=6, axwidth=6, aspect=(8,1), share=0)\n",
    "# Default date locator enabled if you plot datetime data or set datetime limits\n",
    "axs[0].format(xlim=(np.datetime64('2000-01-01'), np.datetime64('2001-01-02')),\n",
    "              xrotation=0)\n",
    "# Concise date formatter introduced in matplotlib 3.1\n",
    "axs[1].format(xlim=(np.datetime64('2000-01-01'), np.datetime64('2001-01-01')),\n",
    "              xformatter='concise', xrotation=0)\n",
    "# Minor ticks every year, major every 10 years\n",
    "axs[2].format(xlim=(np.datetime64('2000-01-01'), np.datetime64('2050-01-01')), xrotation=0,\n",
    "              xlocator=('year', 10), xformatter='\\'%y')\n",
    "# Minor ticks every 10 minutes, major every 2 minutes\n",
    "axs[3].format(xlim=(np.datetime64('2000-01-01T00:00:00'), np.datetime64('2000-01-01T12:00:00')), xrotation=0,\n",
    "              xlocator=('hour',range(0,24,2)), xminorlocator=('minute',range(0,60,10)), xformatter='T%H:%M:%S')\n",
    "# Month and year labels, with default tick label rotation\n",
    "axs[4].format(xlim=(np.datetime64('2000-01-01'), np.datetime64('2008-01-01')),\n",
    "              xlocator='year', xminorlocator='month', xformatter='%b %Y') # minor ticks every month\n",
    "axs[5].format(xlim=(np.datetime64('2000-01-01'), np.datetime64('2001-01-01')),\n",
    "              xgridminor=True, xgrid=False,\n",
    "              xlocator='month', xminorlocator='weekday', xformatter='%B') # minor ticks every Monday, major every month\n",
    "axs.format(ylocator='null', suptitle='Tick locators and formatters with time axes in ProPlot')\n",
    "plot.rc.reset()"
   ]
  },
  {
   "cell_type": "markdown",
   "metadata": {},
   "source": [
    "## Dual unit axes"
   ]
  },
  {
   "cell_type": "markdown",
   "metadata": {},
   "source": [
    "The new `~proplot.axes.CartesianAxes.dualx` and `~proplot.axes.CartesianAxes.dualy` methods build duplicate *x* and *y* axes meant to represent *alternate units* in the same coordinate range as the \"parent\" axis. For simple transformations, just use the `offset` and `scale` keyword args. For more complex transformations, pass the name of any registered \"axis scale\" to the `xscale` or `yscale` keyword args (see below)."
   ]
  },
  {
   "cell_type": "code",
   "execution_count": null,
   "metadata": {},
   "outputs": [],
   "source": [
    "import proplot as plot\n",
    "plot.rc.reset()\n",
    "plot.rc.update({'grid.alpha':0.4, 'linewidth':1, 'grid.linewidth':1})\n",
    "f, axs = plot.subplots(ncols=2, share=0, aspect=2.2, axwidth=3)\n",
    "N = 200\n",
    "c1, c2 = plot.shade('cerulean', 0.5), plot.shade('red', 0.5)\n",
    "# These first 2 are for general users\n",
    "ax = axs[0]\n",
    "ax.format(yformatter='null', xlabel='meters', xlocator=1000, xlim=(0,5000),\n",
    "          xcolor=c2, gridcolor=c2,\n",
    "          suptitle='Duplicate x-axes with simple, custom transformations', ylocator=[], # locator=[] has same result as locator='null'\n",
    "          )\n",
    "ax.dualx(lambda x: x*1e-3, label='kilometers', grid=True, color=c1)\n",
    "ax = axs[1]\n",
    "ax.format(yformatter='null', xlabel='temperature (K)', title='', xlim=(200,300), ylocator='null',\n",
    "         xcolor=c2, gridcolor=c2)\n",
    "ax.dualx(lambda x: x - 273.15, label='temperature (\\N{DEGREE SIGN}C)', grid=True, color=c1)\n",
    "# These next 2 are for atmospheric scientists; note the assumed scale height is 7km\n",
    "f, axs = plot.subplots(ncols=2, share=0, aspect=0.4, axwidth=1.8)\n",
    "ax = axs[0]\n",
    "ax.format(xformatter='null', ylabel='pressure (hPa)', ylim=(1000,10), xlocator=[], ycolor=c1)\n",
    "ax.dualy('height', label='height (km)', ticks=2.5, color=c2, grid=True)\n",
    "ax = axs[1] # span\n",
    "ax.format(xformatter='null', ylabel='height (km)', ylim=(0,20), xlocator='null', gridcolor=c2, ycolor=c2,\n",
    "          suptitle='Duplicate y-axes with special transformations', grid=True)\n",
    "ax.dualy('pressure', label='pressure (hPa)', locator=100, color=c1, grid=True)"
   ]
  },
  {
   "cell_type": "code",
   "execution_count": null,
   "metadata": {},
   "outputs": [],
   "source": [
    "# Plot the response function for an imaginary 5-day lowpass filter\n",
    "import proplot as plot\n",
    "import numpy as np\n",
    "plot.rc.reset()\n",
    "plot.rc['axes.ymargin'] = 0\n",
    "cutoff = 0.3\n",
    "x = np.linspace(0.01,0.5,1000) # in wavenumber days\n",
    "response = (np.tanh(-((x - cutoff)/0.03)) + 1)/2 # imgarinary response function\n",
    "f, ax = plot.subplots(aspect=(3,1), width=6)\n",
    "ax.fill_between(x, 0, response, facecolor='none', edgecolor='gray8', lw=1, clip_on=True)\n",
    "red = plot.saturate(plot.shade('red', 0.7), 3)\n",
    "ax.axvline(cutoff, lw=2, ls='-', color=red)\n",
    "ax.fill_between([0.27, 0.33], 0, 1, color=red, alpha=0.3)\n",
    "ax.format(xlabel='wavenumber (days$^{-1}$)', ylabel='response', gridminor=True)\n",
    "ax = ax.dualx('inverse', locator=np.array([20, 10, 5, 2, 1, 0.5, 0.2, 0.1, 0.05]), label='period (days)')\n",
    "ax.format(title='Imaginary response function', suptitle='Duplicate x-axes with wavenumber and period')"
   ]
  },
  {
   "cell_type": "markdown",
   "metadata": {},
   "source": [
    "## Panel axes\n",
    "\n",
    "It is common to need \"panels\" for plotting secondary 1-dimensional datasets or summary statistics along the sides of axes.\n",
    "With ProPlot, you can generate \"panels\" using the `~proplot.axes.Axes.panel` or `~proplot.axes.Axes.panel_axes` commands. The axes returned by panels are instances of `~proplot.axes.CartesianAxes`.\n",
    "\n",
    "To generate \"stacked\" panels, call `~proplot.axes.Axes.panel` or `~proplot.axes.Axes.panel_axes` more than once. To include panels when centering spanning axis labels and super titles, pass `includepanels=True` to `~proplot.subplots.subplots`."
   ]
  },
  {
   "cell_type": "code",
   "execution_count": null,
   "metadata": {},
   "outputs": [],
   "source": [
    "import proplot as plot\n",
    "f, axs = plot.subplots(axwidth=1.2, nrows=2, ncols=2, share=0)\n",
    "for ax,side in zip(axs,'tlbr'):\n",
    "    ax.panel_axes(side)\n",
    "axs.format(title='Title', suptitle='Panel axes demo', collabels=['Column 1','Column 2'],\n",
    "           abcloc='ul', titleloc='uc', xlabel='xlabel', ylabel='ylabel', abc=True, top=False)\n",
    "axs.format(xlim=(0,1), ylim=(0,1), ylocator=plot.arange(0.2,0.8,0.2), xlocator=plot.arange(0.2,0.8,0.2))"
   ]
  },
  {
   "cell_type": "code",
   "execution_count": null,
   "metadata": {},
   "outputs": [],
   "source": [
    "import proplot as plot\n",
    "import numpy as np\n",
    "data = (np.random.rand(20,20)-0.1).cumsum(axis=1)\n",
    "f, axs = plot.subplots(axwidth=1.5, nrows=2, ncols=2, share=0, panelpad=0.1, includepanels=True)\n",
    "maxs = axs.panel('r', space=0)\n",
    "saxs = axs.panel('r', space=0, share=False)\n",
    "axs.format(xlabel='xlabel', ylabel='ylabel', suptitle='Panel axes demo')\n",
    "for i,ax in enumerate(axs):\n",
    "    ax.format(title=f'Dataset {i+1}')\n",
    "axs.contourf(data, cmap='glacial', levels=plot.arange(-1,11),\n",
    "                 colorbar='b', colorbar_kw={'label':'cbar'}, extend='both')\n",
    "maxs.plot(data.mean(axis=1), np.arange(20), color='gray7')\n",
    "maxs.format(title='Mean')\n",
    "saxs.plot(data.std(axis=1), np.arange(20), color='gray7', ls='--')\n",
    "saxs.format(title='Stdev')"
   ]
  },
  {
   "cell_type": "markdown",
   "metadata": {},
   "source": [
    "## Inset axes\n",
    "\n",
    "[Inset axes](https://matplotlib.org/3.1.1/gallery/subplots_axes_and_figures/zoom_inset_axes.html) in ProPlot can be generated with the `~proplot.axes.Axes.inset` or `~proplot.axes.Axes.inset_axes` command. The generated axes are instances of `~proplot.axes.CartesianAxes`, and therefore can be modified with the `~proplot.axes.CartesianAxes.format` command. Passing `zoom=True` to `~proplot.axes.Axes.inset` draws a \"zoom indication\" with `~matplotlib.axes.Axes.indicate_inset_zoom`, and  the \"zoom indication\" lines are *updated* when the axis limits of the parent axes change. To modify the \"zoom indication\" line properties, simply use the `zoom_kw` argument."
   ]
  },
  {
   "cell_type": "code",
   "execution_count": null,
   "metadata": {},
   "outputs": [],
   "source": [
    "import proplot as plot\n",
    "import numpy as np\n",
    "N = 20\n",
    "f, ax = plot.subplots()\n",
    "x, y = np.arange(10), np.arange(10)\n",
    "data = np.random.rand(10,10)\n",
    "m = ax.pcolormesh(data, cmap='Grays', levels=N)\n",
    "ax.colorbar(m, loc='b', label='label')\n",
    "ax.format(xlabel='xlabel', ylabel='ylabel')\n",
    "axi = ax.inset([5,5,4,4], transform='data', zoom=True, zoom_kw={'color':'red', 'lw':2})\n",
    "axi.format(xlim=(2,4), ylim=(2,4), color='red', linewidth=1.5, ticklabelweight='bold')\n",
    "axi.pcolormesh(data, cmap='Grays', levels=N)\n",
    "ax.format(suptitle='Inset axes demo')"
   ]
  }
 ],
 "metadata": {
  "kernelspec": {
   "display_name": "Python 3",
   "language": "python",
   "name": "python3"
  },
  "language_info": {
   "codemirror_mode": {
    "name": "ipython",
    "version": 3
   },
   "file_extension": ".py",
   "mimetype": "text/x-python",
   "name": "python",
   "nbconvert_exporter": "python",
   "pygments_lexer": "ipython3",
   "version": "3.7.3"
  },
  "toc": {
   "colors": {
    "hover_highlight": "#ece260",
    "navigate_num": "#000000",
    "navigate_text": "#000000",
    "running_highlight": "#FF0000",
    "selected_highlight": "#fff968",
    "sidebar_border": "#ffffff",
    "wrapper_background": "#ffffff"
   },
   "moveMenuLeft": false,
   "nav_menu": {
    "height": "12px",
    "width": "250px"
   },
   "navigate_menu": true,
   "number_sections": true,
   "sideBar": true,
   "threshold": 4,
   "toc_cell": false,
   "toc_section_display": "block",
   "toc_window_display": true,
   "widenNotebook": false
  },
  "varInspector": {
   "cols": {
    "lenName": 16,
    "lenType": 16,
    "lenVar": 40
   },
   "kernels_config": {
    "python": {
     "delete_cmd_postfix": "",
     "delete_cmd_prefix": "del ",
     "library": "var_list.py",
     "varRefreshCmd": "print(var_dic_list())"
    },
    "r": {
     "delete_cmd_postfix": ") ",
     "delete_cmd_prefix": "rm(",
     "library": "var_list.r",
     "varRefreshCmd": "cat(var_dic_list()) "
    }
   },
   "types_to_exclude": [
    "module",
    "function",
    "builtin_function_or_method",
    "instance",
    "_Feature"
   ],
   "window_display": false
  }
 },
 "nbformat": 4,
 "nbformat_minor": 2
}
